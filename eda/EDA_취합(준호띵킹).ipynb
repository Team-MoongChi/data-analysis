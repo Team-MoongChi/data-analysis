{
 "cells": [
  {
   "cell_type": "markdown",
   "id": "651f01ab",
   "metadata": {},
   "source": [
    "# EDA 취합\n",
    "(준호띵킹 대시보드에 있으면 좋겠는거)\n",
    "\n",
    "- 공구마감률추이분석 : 주차별/월별 공구 생성 수 & 마감 상태 분포\n",
    "- 거래 상태 요약 : 월별 거래 추이 시각화\n",
    "- 리더 활동 통계 분석 : 리더 평균 공구 개설 수, 카테고리별 공구 활동 분포\n",
    "- 지역분석 : 지역별 공구방, 참여자 수, 리더 수\n",
    "- 카테고리별 인기 분석 : 평점 분포\n"
   ]
  },
  {
   "cell_type": "code",
   "execution_count": 2,
   "id": "d2d9d1fa",
   "metadata": {},
   "outputs": [],
   "source": [
    "import pandas as pd\n",
    "import matplotlib.pyplot as plt\n",
    "import matplotlib.font_manager as fm\n",
    "import matplotlib as mpl\n",
    "import seaborn as sns\n",
    "\n",
    "import plotly.express as px\n",
    "import plotly.graph_objects as go\n",
    "import plotly.figure_factory as ff\n",
    "import plotly.io as pio\n",
    "import warnings\n",
    "\n",
    "from datetime import datetime, timedelta\n",
    "from plotly.subplots import make_subplots\n",
    "\n",
    "\n",
    "\n",
    "# matplotlib 한글 설정 (전체 설정은 생략하고 개별적으로 font 적용)\n",
    "plt.rcParams['font.family'] = 'NanumBarunGothic'"
   ]
  },
  {
   "cell_type": "markdown",
   "id": "6981758d",
   "metadata": {},
   "source": [
    "## 공구마감률추이분석 : 주차별/월별 공구 생성 수 & 마감 상태 분포"
   ]
  },
  {
   "cell_type": "code",
   "execution_count": 7,
   "id": "8c3f326a",
   "metadata": {},
   "outputs": [],
   "source": [
    "# 데이터 로드\n",
    "products_df = pd.read_csv('../data/products_df_final.csv')\n",
    "group_product_df = pd.read_csv('../data/group_product_df_final.csv')\n",
    "category_df = pd.read_csv('../data/category_df_final.csv')\n",
    "participants_df = pd.read_csv('../data/participants_dummy_data_3000.csv')\n",
    "group_boards_df = pd.read_csv('../data/group_boards_dummy_data_500.csv')\n",
    "user_df = pd.read_csv('../data/user_df_final.csv', encoding='utf-8')"
   ]
  },
  {
   "cell_type": "code",
   "execution_count": 15,
   "id": "06663567",
   "metadata": {},
   "outputs": [
    {
     "data": {
      "text/html": [
       "<div>\n",
       "<style scoped>\n",
       "    .dataframe tbody tr th:only-of-type {\n",
       "        vertical-align: middle;\n",
       "    }\n",
       "\n",
       "    .dataframe tbody tr th {\n",
       "        vertical-align: top;\n",
       "    }\n",
       "\n",
       "    .dataframe thead th {\n",
       "        text-align: right;\n",
       "    }\n",
       "</style>\n",
       "<table border=\"1\" class=\"dataframe\">\n",
       "  <thead>\n",
       "    <tr style=\"text-align: right;\">\n",
       "      <th></th>\n",
       "      <th>group_board_id</th>\n",
       "      <th>title</th>\n",
       "      <th>content</th>\n",
       "      <th>location</th>\n",
       "      <th>status</th>\n",
       "      <th>deadline</th>\n",
       "      <th>created_at</th>\n",
       "      <th>updated_at</th>\n",
       "      <th>total_users</th>\n",
       "      <th>group_product_id</th>\n",
       "    </tr>\n",
       "  </thead>\n",
       "  <tbody>\n",
       "    <tr>\n",
       "      <th>0</th>\n",
       "      <td>1</td>\n",
       "      <td>공구_1</td>\n",
       "      <td>Laboriosam rem placeat error asperiores. Culpa...</td>\n",
       "      <td>수원</td>\n",
       "      <td>마감임박</td>\n",
       "      <td>2025-06-28</td>\n",
       "      <td>2024-12-31</td>\n",
       "      <td>2025-03-26</td>\n",
       "      <td>4</td>\n",
       "      <td>189</td>\n",
       "    </tr>\n",
       "    <tr>\n",
       "      <th>1</th>\n",
       "      <td>2</td>\n",
       "      <td>공구_2</td>\n",
       "      <td>Nemo praesentium deleniti. Et corrupti porro i...</td>\n",
       "      <td>수원</td>\n",
       "      <td>모집마감</td>\n",
       "      <td>2025-05-30</td>\n",
       "      <td>2024-12-05</td>\n",
       "      <td>2025-02-24</td>\n",
       "      <td>10</td>\n",
       "      <td>111</td>\n",
       "    </tr>\n",
       "    <tr>\n",
       "      <th>2</th>\n",
       "      <td>3</td>\n",
       "      <td>공구_3</td>\n",
       "      <td>Aut ex iusto. A mollitia ut illum.</td>\n",
       "      <td>대구</td>\n",
       "      <td>마감임박</td>\n",
       "      <td>2025-06-23</td>\n",
       "      <td>2024-12-08</td>\n",
       "      <td>2025-04-23</td>\n",
       "      <td>12</td>\n",
       "      <td>331</td>\n",
       "    </tr>\n",
       "    <tr>\n",
       "      <th>3</th>\n",
       "      <td>4</td>\n",
       "      <td>공구_4</td>\n",
       "      <td>Soluta ab necessitatibus autem voluptatem. Ist...</td>\n",
       "      <td>대전</td>\n",
       "      <td>공구성공</td>\n",
       "      <td>2025-06-19</td>\n",
       "      <td>2025-01-07</td>\n",
       "      <td>2025-05-04</td>\n",
       "      <td>11</td>\n",
       "      <td>98</td>\n",
       "    </tr>\n",
       "    <tr>\n",
       "      <th>4</th>\n",
       "      <td>5</td>\n",
       "      <td>공구_5</td>\n",
       "      <td>Ea doloremque quidem. Error quam accusamus off...</td>\n",
       "      <td>부산</td>\n",
       "      <td>모집마감</td>\n",
       "      <td>2025-05-30</td>\n",
       "      <td>2025-03-21</td>\n",
       "      <td>2025-01-06</td>\n",
       "      <td>17</td>\n",
       "      <td>498</td>\n",
       "    </tr>\n",
       "  </tbody>\n",
       "</table>\n",
       "</div>"
      ],
      "text/plain": [
       "   group_board_id title                                            content  \\\n",
       "0               1  공구_1  Laboriosam rem placeat error asperiores. Culpa...   \n",
       "1               2  공구_2  Nemo praesentium deleniti. Et corrupti porro i...   \n",
       "2               3  공구_3                 Aut ex iusto. A mollitia ut illum.   \n",
       "3               4  공구_4  Soluta ab necessitatibus autem voluptatem. Ist...   \n",
       "4               5  공구_5  Ea doloremque quidem. Error quam accusamus off...   \n",
       "\n",
       "  location status    deadline  created_at  updated_at  total_users  \\\n",
       "0       수원   마감임박  2025-06-28  2024-12-31  2025-03-26            4   \n",
       "1       수원   모집마감  2025-05-30  2024-12-05  2025-02-24           10   \n",
       "2       대구   마감임박  2025-06-23  2024-12-08  2025-04-23           12   \n",
       "3       대전   공구성공  2025-06-19  2025-01-07  2025-05-04           11   \n",
       "4       부산   모집마감  2025-05-30  2025-03-21  2025-01-06           17   \n",
       "\n",
       "   group_product_id  \n",
       "0               189  \n",
       "1               111  \n",
       "2               331  \n",
       "3                98  \n",
       "4               498  "
      ]
     },
     "execution_count": 15,
     "metadata": {},
     "output_type": "execute_result"
    }
   ],
   "source": [
    "group_boards_df.head()"
   ]
  },
  {
   "cell_type": "code",
   "execution_count": 18,
   "id": "b4276c5e",
   "metadata": {},
   "outputs": [
    {
     "name": "stdout",
     "output_type": "stream",
     "text": [
      "['마감임박' '모집마감' '공구성공' '모집중']\n"
     ]
    }
   ],
   "source": [
    "# 날짜 타입으로 변환\n",
    "group_boards_df['created_at'] = pd.to_datetime(group_boards_df['created_at'])\n",
    "group_boards_df['deadline'] = pd.to_datetime(group_boards_df['deadline'])\n",
    "\n",
    "print(group_boards_df['status'].unique())"
   ]
  },
  {
   "cell_type": "code",
   "execution_count": 20,
   "id": "e90ca899",
   "metadata": {},
   "outputs": [
    {
     "data": {
      "image/png": "[encoded data removed]",
      "text/plain": [
       "<Figure size 1200x600 with 1 Axes>"
      ]
     },
     "metadata": {},
     "output_type": "display_data"
    }
   ],
   "source": [
    "# 월 단위로 묶기\n",
    "group_boards_df['year_month'] = group_boards_df['created_at'].dt.to_period('M')\n",
    "\n",
    "# 상태별 마감률 추이 (월별)\n",
    "monthly_status = group_boards_df.groupby(['year_month', 'status']).size().unstack(fill_value=0)\n",
    "\n",
    "# 시각화\n",
    "import matplotlib.pyplot as plt\n",
    "\n",
    "monthly_status.plot(kind='line', marker='o', figsize=(12,6))\n",
    "plt.title('월별 공구 상태 추이')\n",
    "plt.xlabel('월')\n",
    "plt.ylabel('공구 수')\n",
    "plt.xticks(rotation=45)\n",
    "plt.tight_layout()\n",
    "plt.show()"
   ]
  },
  {
   "cell_type": "markdown",
   "id": "935e2537",
   "metadata": {},
   "source": [
    "## 거래 상태 요약 : 월별 거래 추이 시각화"
   ]
  },
  {
   "cell_type": "code",
   "execution_count": 23,
   "id": "223112b1",
   "metadata": {},
   "outputs": [],
   "source": [
    "# 데이터 로드\n",
    "group_boards = pd.read_csv('../data/group_boards_dummy_data_500.csv')\n",
    "participants = pd.read_csv('../data/participants_dummy_data_3000.csv')"
   ]
  },
  {
   "cell_type": "code",
   "execution_count": 24,
   "metadata": {},
   "outputs": [],
   "source": [
    "# 날짜 컬럼 변환\n",
    "group_boards['created_at'] = pd.to_datetime(group_boards['created_at'])\n",
    "group_boards['deadline'] = pd.to_datetime(group_boards['deadline'])\n",
    "group_boards['updated_at'] = pd.to_datetime(group_boards['updated_at'])\n",
    "participants['joined_at'] = pd.to_datetime(participants['joined_at'])\n",
    "\n",
    "# 월 컬럼 추가\n",
    "group_boards['created_month'] = group_boards['created_at'].dt.to_period('M')\n",
    "participants['joined_month'] = participants['joined_at'].dt.to_period('M')\n",
    "\n",
    "# 공구 기간 계산\n",
    "group_boards['duration_days'] = (group_boards['deadline'] - group_boards['created_at']).dt.days\n",
    "\n",
    "# 요일 정보 추가\n",
    "group_boards['created_weekday'] = group_boards['created_at'].dt.day_name()\n",
    "participants['joined_weekday'] = participants['joined_at'].dt.day_name()"
   ]
  },
  {
   "cell_type": "code",
   "execution_count": 26,
   "id": "e7d95651",
   "metadata": {},
   "outputs": [
    {
     "name": "stdout",
     "output_type": "stream",
     "text": [
      "월별 공구 개설 수:\n",
      "- 2024-11: 12개\n",
      "- 2024-12: 89개\n",
      "- 2025-01: 64개\n",
      "- 2025-02: 86개\n",
      "- 2025-03: 78개\n",
      "- 2025-04: 98개\n",
      "- 2025-05: 73개\n",
      "\n",
      "월별 공구 완료 수:\n",
      "- 2024-11: 2개\n",
      "- 2024-12: 28개\n",
      "- 2025-01: 24개\n",
      "- 2025-02: 25개\n",
      "- 2025-03: 11개\n",
      "- 2025-04: 21개\n",
      "- 2025-05: 20개\n",
      "\n",
      "월별 신규 리더 수:\n",
      "- 2024-11: 15명\n",
      "- 2024-12: 262명\n",
      "- 2025-01: 259명\n",
      "- 2025-02: 239명\n",
      "- 2025-03: 247명\n",
      "- 2025-04: 265명\n",
      "- 2025-05: 220명\n",
      "\n",
      "월별 전체 참가자 수:\n",
      "- 2024-11: 34명\n",
      "- 2024-12: 521명\n",
      "- 2025-01: 503명\n",
      "- 2025-02: 482명\n",
      "- 2025-03: 493명\n",
      "- 2025-04: 523명\n",
      "- 2025-05: 444명\n"
     ]
    }
   ],
   "source": [
    "# 월별 공구 개설 수\n",
    "monthly_creation = group_boards.groupby('created_month').size()\n",
    "print(f\"월별 공구 개설 수:\")\n",
    "for month, count in monthly_creation.items():\n",
    "  print(f\"- {month}: {count:,}개\")\n",
    "\n",
    "# 월별 공구 완료 수\n",
    "monthly_completion = group_boards[group_boards['status'] == '공구성공'].groupby('created_month').size()\n",
    "print(f\"\\n월별 공구 완료 수:\")\n",
    "for month, count in monthly_completion.items():\n",
    "  print(f\"- {month}: {count:,}개\")\n",
    "\n",
    "# 월별 신규 리더 수\n",
    "monthly_new_leaders = participants[participants['role'] == '리더'].groupby('joined_month').size()\n",
    "print(f\"\\n월별 신규 리더 수:\")\n",
    "for month, count in monthly_new_leaders.items():\n",
    "  print(f\"- {month}: {count:,}명\")\n",
    "\n",
    "# 월별 전체 참가자 수\n",
    "monthly_participants = participants.groupby('joined_month').size()\n",
    "print(f\"\\n월별 전체 참가자 수:\")\n",
    "for month, count in monthly_participants.items():\n",
    "  print(f\"- {month}: {count:,}명\")"
   ]
  },
  {
   "cell_type": "code",
   "execution_count": 27,
   "id": "1abfecbd",
   "metadata": {},
   "outputs": [
    {
     "data": {
      "application/vnd.plotly.v1+json": {
       "config": {
        "plotlyServerURL": "https://plot.ly"
       },
       "data": [
        {
         "line": {
          "color": "blue",
          "width": 3
         },
         "mode": "lines+markers",
         "name": "개설수",
         "type": "scatter",
         "x": [
          "2024-11",
          "2024-12",
          "2025-01",
          "2025-02",
          "2025-03",
          "2025-04",
          "2025-05"
         ],
         "xaxis": "x",
         "y": {
          "bdata": "DFlAVk5iSQ==",
          "dtype": "i1"
         },
         "yaxis": "y"
        },
        {
         "line": {
          "color": "green",
          "width": 3
         },
         "mode": "lines+markers",
         "name": "완료수",
         "type": "scatter",
         "x": [
          "2024-11",
          "2024-12",
          "2025-01",
          "2025-02",
          "2025-03",
          "2025-04",
          "2025-05"
         ],
         "xaxis": "x2",
         "y": {
          "bdata": "AhwYGQsVFA==",
          "dtype": "i1"
         },
         "yaxis": "y2"
        },
        {
         "marker": {
          "color": "orange"
         },
         "name": "신규리더",
         "type": "bar",
         "x": [
          "2024-11",
          "2024-12",
          "2025-01",
          "2025-02",
          "2025-03",
          "2025-04",
          "2025-05"
         ],
         "xaxis": "x3",
         "y": {
          "bdata": "DwAGAQMB7wD3AAkB3AA=",
          "dtype": "i2"
         },
         "yaxis": "y3"
        },
        {
         "marker": {
          "color": "purple"
         },
         "name": "참가자수",
         "type": "bar",
         "x": [
          "2024-11",
          "2024-12",
          "2025-01",
          "2025-02",
          "2025-03",
          "2025-04",
          "2025-05"
         ],
         "xaxis": "x4",
         "y": {
          "bdata": "IgAJAvcB4gHtAQsCvAE=",
          "dtype": "i2"
         },
         "yaxis": "y4"
        }
       ],
       "layout": {
        "annotations": [
         {
          "font": {
           "size": 16
          },
          "showarrow": false,
          "text": "월별 공구 개설 수",
          "x": 0.225,
          "xanchor": "center",
          "xref": "paper",
          "y": 1,
          "yanchor": "bottom",
          "yref": "paper"
         },
         {
          "font": {
           "size": 16
          },
          "showarrow": false,
          "text": "월별 공구 완료 수",
          "x": 0.775,
          "xanchor": "center",
          "xref": "paper",
          "y": 1,
          "yanchor": "bottom",
          "yref": "paper"
         },
         {
          "font": {
           "size": 16
          },
          "showarrow": false,
          "text": "월별 신규 리더 수",
          "x": 0.225,
          "xanchor": "center",
          "xref": "paper",
          "y": 0.44,
          "yanchor": "bottom",
          "yref": "paper"
         },
         {
          "font": {
           "size": 16
          },
          "showarrow": false,
          "text": "월별 참가자 수",
          "x": 0.775,
          "xanchor": "center",
          "xref": "paper",
          "y": 0.44,
          "yanchor": "bottom",
          "yref": "paper"
         }
        ],
        "height": 800,
        "showlegend": false,
        "template": {
         "data": {
          "bar": [
           {
            "error_x": {
             "color": "#2a3f5f"
            },
            "error_y": {
             "color": "#2a3f5f"
            },
            "marker": {
             "line": {
              "color": "#E5ECF6",
              "width": 0.5
             },
             "pattern": {
              "fillmode": "overlay",
              "size": 10,
              "solidity": 0.2
             }
            },
            "type": "bar"
           }
          ],
          "barpolar": [
           {
            "marker": {
             "line": {
              "color": "#E5ECF6",
              "width": 0.5
             },
             "pattern": {
              "fillmode": "overlay",
              "size": 10,
              "solidity": 0.2
             }
            },
            "type": "barpolar"
           }
          ],
          "carpet": [
           {
            "aaxis": {
             "endlinecolor": "#2a3f5f",
             "gridcolor": "white",
             "linecolor": "white",
             "minorgridcolor": "white",
             "startlinecolor": "#2a3f5f"
            },
            "baxis": {
             "endlinecolor": "#2a3f5f",
             "gridcolor": "white",
             "linecolor": "white",
             "minorgridcolor": "white",
             "startlinecolor": "#2a3f5f"
            },
            "type": "carpet"
           }
          ],
          "choropleth": [
           {
            "colorbar": {
             "outlinewidth": 0,
             "ticks": ""
            },
            "type": "choropleth"
           }
          ],
          "contour": [
           {
            "colorbar": {
             "outlinewidth": 0,
             "ticks": ""
            },
            "colorscale": [
             [
              0,
              "#0d0887"
             ],
             [
              0.1111111111111111,
              "#46039f"
             ],
             [
              0.2222222222222222,
              "#7201a8"
             ],
             [
              0.3333333333333333,
              "#9c179e"
             ],
             [
              0.4444444444444444,
              "#bd3786"
             ],
             [
              0.5555555555555556,
              "#d8576b"
             ],
             [
              0.6666666666666666,
              "#ed7953"
             ],
             [
              0.7777777777777778,
              "#fb9f3a"
             ],
             [
              0.8888888888888888,
              "#fdca26"
             ],
             [
              1,
              "#f0f921"
             ]
            ],
            "type": "contour"
           }
          ],
          "contourcarpet": [
           {
            "colorbar": {
             "outlinewidth": 0,
             "ticks": ""
            },
            "type": "contourcarpet"
           }
          ],
          "heatmap": [
           {
            "colorbar": {
             "outlinewidth": 0,
             "ticks": ""
            },
            "colorscale": [
             [
              0,
              "#0d0887"
             ],
             [
              0.1111111111111111,
              "#46039f"
             ],
             [
              0.2222222222222222,
              "#7201a8"
             ],
             [
              0.3333333333333333,
              "#9c179e"
             ],
             [
              0.4444444444444444,
              "#bd3786"
             ],
             [
              0.5555555555555556,
              "#d8576b"
             ],
             [
              0.6666666666666666,
              "#ed7953"
             ],
             [
              0.7777777777777778,
              "#fb9f3a"
             ],
             [
              0.8888888888888888,
              "#fdca26"
             ],
             [
              1,
              "#f0f921"
             ]
            ],
            "type": "heatmap"
           }
          ],
          "histogram": [
           {
            "marker": {
             "pattern": {
              "fillmode": "overlay",
              "size": 10,
              "solidity": 0.2
             }
            },
            "type": "histogram"
           }
          ],
          "histogram2d": [
           {
            "colorbar": {
             "outlinewidth": 0,
             "ticks": ""
            },
            "colorscale": [
             [
              0,
              "#0d0887"
             ],
             [
              0.1111111111111111,
              "#46039f"
             ],
             [
              0.2222222222222222,
              "#7201a8"
             ],
             [
              0.3333333333333333,
              "#9c179e"
             ],
             [
              0.4444444444444444,
              "#bd3786"
             ],
             [
              0.5555555555555556,
              "#d8576b"
             ],
             [
              0.6666666666666666,
              "#ed7953"
             ],
             [
              0.7777777777777778,
              "#fb9f3a"
             ],
             [
              0.8888888888888888,
              "#fdca26"
             ],
             [
              1,
              "#f0f921"
             ]
            ],
            "type": "histogram2d"
           }
          ],
          "histogram2dcontour": [
           {
            "colorbar": {
             "outlinewidth": 0,
             "ticks": ""
            },
            "colorscale": [
             [
              0,
              "#0d0887"
             ],
             [
              0.1111111111111111,
              "#46039f"
             ],
             [
              0.2222222222222222,
              "#7201a8"
             ],
             [
              0.3333333333333333,
              "#9c179e"
             ],
             [
              0.4444444444444444,
              "#bd3786"
             ],
             [
              0.5555555555555556,
              "#d8576b"
             ],
             [
              0.6666666666666666,
              "#ed7953"
             ],
             [
              0.7777777777777778,
              "#fb9f3a"
             ],
             [
              0.8888888888888888,
              "#fdca26"
             ],
             [
              1,
              "#f0f921"
             ]
            ],
            "type": "histogram2dcontour"
           }
          ],
          "mesh3d": [
           {
            "colorbar": {
             "outlinewidth": 0,
             "ticks": ""
            },
            "type": "mesh3d"
           }
          ],
          "parcoords": [
           {
            "line": {
             "colorbar": {
              "outlinewidth": 0,
              "ticks": ""
             }
            },
            "type": "parcoords"
           }
          ],
          "pie": [
           {
            "automargin": true,
            "type": "pie"
           }
          ],
          "scatter": [
           {
            "fillpattern": {
             "fillmode": "overlay",
             "size": 10,
             "solidity": 0.2
            },
            "type": "scatter"
           }
          ],
          "scatter3d": [
           {
            "line": {
             "colorbar": {
              "outlinewidth": 0,
              "ticks": ""
             }
            },
            "marker": {
             "colorbar": {
              "outlinewidth": 0,
              "ticks": ""
             }
            },
            "type": "scatter3d"
           }
          ],
          "scattercarpet": [
           {
            "marker": {
             "colorbar": {
              "outlinewidth": 0,
              "ticks": ""
             }
            },
            "type": "scattercarpet"
           }
          ],
          "scattergeo": [
           {
            "marker": {
             "colorbar": {
              "outlinewidth": 0,
              "ticks": ""
             }
            },
            "type": "scattergeo"
           }
          ],
          "scattergl": [
           {
            "marker": {
             "colorbar": {
              "outlinewidth": 0,
              "ticks": ""
             }
            },
            "type": "scattergl"
           }
          ],
          "scattermap": [
           {
            "marker": {
             "colorbar": {
              "outlinewidth": 0,
              "ticks": ""
             }
            },
            "type": "scattermap"
           }
          ],
          "scattermapbox": [
           {
            "marker": {
             "colorbar": {
              "outlinewidth": 0,
              "ticks": ""
             }
            },
            "type": "scattermapbox"
           }
          ],
          "scatterpolar": [
           {
            "marker": {
             "colorbar": {
              "outlinewidth": 0,
              "ticks": ""
             }
            },
            "type": "scatterpolar"
           }
          ],
          "scatterpolargl": [
           {
            "marker": {
             "colorbar": {
              "outlinewidth": 0,
              "ticks": ""
             }
            },
            "type": "scatterpolargl"
           }
          ],
          "scatterternary": [
           {
            "marker": {
             "colorbar": {
              "outlinewidth": 0,
              "ticks": ""
             }
            },
            "type": "scatterternary"
           }
          ],
          "surface": [
           {
            "colorbar": {
             "outlinewidth": 0,
             "ticks": ""
            },
            "colorscale": [
             [
              0,
              "#0d0887"
             ],
             [
              0.1111111111111111,
              "#46039f"
             ],
             [
              0.2222222222222222,
              "#7201a8"
             ],
             [
              0.3333333333333333,
              "#9c179e"
             ],
             [
              0.4444444444444444,
              "#bd3786"
             ],
             [
              0.5555555555555556,
              "#d8576b"
             ],
             [
              0.6666666666666666,
              "#ed7953"
             ],
             [
              0.7777777777777778,
              "#fb9f3a"
             ],
             [
              0.8888888888888888,
              "#fdca26"
             ],
             [
              1,
              "#f0f921"
             ]
            ],
            "type": "surface"
           }
          ],
          "table": [
           {
            "cells": {
             "fill": {
              "color": "#EBF0F8"
             },
             "line": {
              "color": "white"
             }
            },
            "header": {
             "fill": {
              "color": "#C8D4E3"
             },
             "line": {
              "color": "white"
             }
            },
            "type": "table"
           }
          ]
         },
         "layout": {
          "annotationdefaults": {
           "arrowcolor": "#2a3f5f",
           "arrowhead": 0,
           "arrowwidth": 1
          },
          "autotypenumbers": "strict",
          "coloraxis": {
           "colorbar": {
            "outlinewidth": 0,
            "ticks": ""
           }
          },
          "colorscale": {
           "diverging": [
            [
             0,
             "#8e0152"
            ],
            [
             0.1,
             "#c51b7d"
            ],
            [
             0.2,
             "#de77ae"
            ],
            [
             0.3,
             "#f1b6da"
            ],
            [
             0.4,
             "#fde0ef"
            ],
            [
             0.5,
             "#f7f7f7"
            ],
            [
             0.6,
             "#e6f5d0"
            ],
            [
             0.7,
             "#b8e186"
            ],
            [
             0.8,
             "#7fbc41"
            ],
            [
             0.9,
             "#4d9221"
            ],
            [
             1,
             "#276419"
            ]
           ],
           "sequential": [
            [
             0,
             "#0d0887"
            ],
            [
             0.1111111111111111,
             "#46039f"
            ],
            [
             0.2222222222222222,
             "#7201a8"
            ],
            [
             0.3333333333333333,
             "#9c179e"
            ],
            [
             0.4444444444444444,
             "#bd3786"
            ],
            [
             0.5555555555555556,
             "#d8576b"
            ],
            [
             0.6666666666666666,
             "#ed7953"
            ],
            [
             0.7777777777777778,
             "#fb9f3a"
            ],
            [
             0.8888888888888888,
             "#fdca26"
            ],
            [
             1,
             "#f0f921"
            ]
           ],
           "sequentialminus": [
            [
             0,
             "#0d0887"
            ],
            [
             0.1111111111111111,
             "#46039f"
            ],
            [
             0.2222222222222222,
             "#7201a8"
            ],
            [
             0.3333333333333333,
             "#9c179e"
            ],
            [
             0.4444444444444444,
             "#bd3786"
            ],
            [
             0.5555555555555556,
             "#d8576b"
            ],
            [
             0.6666666666666666,
             "#ed7953"
            ],
            [
             0.7777777777777778,
             "#fb9f3a"
            ],
            [
             0.8888888888888888,
             "#fdca26"
            ],
            [
             1,
             "#f0f921"
            ]
           ]
          },
          "colorway": [
           "#636efa",
           "#EF553B",
           "#00cc96",
           "#ab63fa",
           "#FFA15A",
           "#19d3f3",
           "#FF6692",
           "#B6E880",
           "#FF97FF",
           "#FECB52"
          ],
          "font": {
           "color": "#2a3f5f"
          },
          "geo": {
           "bgcolor": "white",
           "lakecolor": "white",
           "landcolor": "#E5ECF6",
           "showlakes": true,
           "showland": true,
           "subunitcolor": "white"
          },
          "hoverlabel": {
           "align": "left"
          },
          "hovermode": "closest",
          "mapbox": {
           "style": "light"
          },
          "paper_bgcolor": "white",
          "plot_bgcolor": "#E5ECF6",
          "polar": {
           "angularaxis": {
            "gridcolor": "white",
            "linecolor": "white",
            "ticks": ""
           },
           "bgcolor": "#E5ECF6",
           "radialaxis": {
            "gridcolor": "white",
            "linecolor": "white",
            "ticks": ""
           }
          },
          "scene": {
           "xaxis": {
            "backgroundcolor": "#E5ECF6",
            "gridcolor": "white",
            "gridwidth": 2,
            "linecolor": "white",
            "showbackground": true,
            "ticks": "",
            "zerolinecolor": "white"
           },
           "yaxis": {
            "backgroundcolor": "#E5ECF6",
            "gridcolor": "white",
            "gridwidth": 2,
            "linecolor": "white",
            "showbackground": true,
            "ticks": "",
            "zerolinecolor": "white"
           },
           "zaxis": {
            "backgroundcolor": "#E5ECF6",
            "gridcolor": "white",
            "gridwidth": 2,
            "linecolor": "white",
            "showbackground": true,
            "ticks": "",
            "zerolinecolor": "white"
           }
          },
          "shapedefaults": {
           "line": {
            "color": "#2a3f5f"
           }
          },
          "ternary": {
           "aaxis": {
            "gridcolor": "white",
            "linecolor": "white",
            "ticks": ""
           },
           "baxis": {
            "gridcolor": "white",
            "linecolor": "white",
            "ticks": ""
           },
           "bgcolor": "#E5ECF6",
           "caxis": {
            "gridcolor": "white",
            "linecolor": "white",
            "ticks": ""
           }
          },
          "title": {
           "x": 0.05
          },
          "xaxis": {
           "automargin": true,
           "gridcolor": "white",
           "linecolor": "white",
           "ticks": "",
           "title": {
            "standoff": 15
           },
           "zerolinecolor": "white",
           "zerolinewidth": 2
          },
          "yaxis": {
           "automargin": true,
           "gridcolor": "white",
           "linecolor": "white",
           "ticks": "",
           "title": {
            "standoff": 15
           },
           "zerolinecolor": "white",
           "zerolinewidth": 2
          }
         }
        },
        "title": {
         "font": {
          "size": 18
         },
         "text": "월별 거래 흐름 분석"
        },
        "width": 1200,
        "xaxis": {
         "anchor": "y",
         "domain": [
          0,
          0.45
         ]
        },
        "xaxis2": {
         "anchor": "y2",
         "domain": [
          0.55,
          1
         ]
        },
        "xaxis3": {
         "anchor": "y3",
         "domain": [
          0,
          0.45
         ]
        },
        "xaxis4": {
         "anchor": "y4",
         "domain": [
          0.55,
          1
         ]
        },
        "yaxis": {
         "anchor": "x",
         "domain": [
          0.56,
          1
         ]
        },
        "yaxis2": {
         "anchor": "x2",
         "domain": [
          0.56,
          1
         ]
        },
        "yaxis3": {
         "anchor": "x3",
         "domain": [
          0,
          0.44
         ]
        },
        "yaxis4": {
         "anchor": "x4",
         "domain": [
          0,
          0.44
         ]
        }
       }
      }
     },
     "metadata": {},
     "output_type": "display_data"
    }
   ],
   "source": [
    "# 월별 지표 종합 차트\n",
    "fig_monthly = make_subplots(\n",
    "    rows=2, cols=2,\n",
    "    subplot_titles=['월별 공구 개설 수', '월별 공구 완료 수', '월별 신규 리더 수', '월별 참가자 수'],\n",
    "    vertical_spacing=0.12\n",
    ")\n",
    "\n",
    "# 월별 공구 개설 수\n",
    "fig_monthly.add_trace(\n",
    "    go.Scatter(\n",
    "        x=monthly_creation.index.astype(str),\n",
    "        y=monthly_creation.values,\n",
    "        mode='lines+markers',\n",
    "        name=\"개설수\",\n",
    "        line=dict(color='blue', width=3)\n",
    "    ),\n",
    "    row=1, col=1\n",
    ")\n",
    "\n",
    "# 월별 공구 완료 수\n",
    "fig_monthly.add_trace(\n",
    "    go.Scatter(\n",
    "        x=monthly_completion.index.astype(str),\n",
    "        y=monthly_completion.values,\n",
    "        mode='lines+markers',\n",
    "        name=\"완료수\",\n",
    "        line=dict(color='green', width=3)\n",
    "    ),\n",
    "    row=1, col=2\n",
    ")\n",
    "\n",
    "# 월별 신규 리더 수\n",
    "fig_monthly.add_trace(\n",
    "    go.Bar(\n",
    "        x=monthly_new_leaders.index.astype(str),\n",
    "        y=monthly_new_leaders.values,\n",
    "        name=\"신규리더\",\n",
    "        marker_color='orange'\n",
    "    ),\n",
    "    row=2, col=1\n",
    ")\n",
    "\n",
    "# 월별 참가자 수\n",
    "fig_monthly.add_trace(\n",
    "    go.Bar(\n",
    "        x=monthly_participants.index.astype(str),\n",
    "        y=monthly_participants.values,\n",
    "        name=\"참가자수\",\n",
    "        marker_color='purple'\n",
    "    ),\n",
    "    row=2, col=2\n",
    ")\n",
    "\n",
    "fig_monthly.update_layout(\n",
    "    title=\"월별 거래 흐름 분석\",\n",
    "    title_font_size=18,\n",
    "    height=800,\n",
    "    width=1200,\n",
    "    showlegend=False\n",
    ")\n",
    "fig_monthly.show()"
   ]
  },
  {
   "cell_type": "markdown",
   "id": "a188c201",
   "metadata": {},
   "source": [
    "## 리더 활동 통계 분석 : 리더 평균 공구 개설 수, 카테고리별 공구 활동 분포"
   ]
  },
  {
   "cell_type": "code",
   "execution_count": 38,
   "id": "ff77c792",
   "metadata": {},
   "outputs": [],
   "source": [
    "# 데이터 로드\n",
    "products_df = pd.read_csv('../data/products_df_final.csv')\n",
    "group_product_df = pd.read_csv('../data/group_product_df_final.csv')\n",
    "category_df = pd.read_csv('../data/category_df_final.csv')\n",
    "participants_df = pd.read_csv('../data/participants_dummy_data_3000.csv')\n",
    "group_boards_df = pd.read_csv('../data/group_boards_dummy_data_500.csv')\n",
    "user_df = pd.read_csv('../data/user_df_final.csv', encoding='utf-8')"
   ]
  },
  {
   "cell_type": "code",
   "execution_count": 37,
   "id": "c9be33b8",
   "metadata": {},
   "outputs": [
    {
     "name": "stdout",
     "output_type": "stream",
     "text": [
      "\n",
      "=== Merged DataFrame ===\n",
      "Shape after join: (2377, 13)\n",
      "   product_id  name  price                             img_url  rating  \\\n",
      "0           1  상품_1  93810  https://www.lorempixel.com/200/200     2.7   \n",
      "1           1  상품_1  93810  https://www.lorempixel.com/200/200     2.7   \n",
      "2           1  상품_1  93810  https://www.lorempixel.com/200/200     2.7   \n",
      "3           1  상품_1  93810  https://www.lorempixel.com/200/200     2.7   \n",
      "4           1  상품_1  93810  https://www.lorempixel.com/200/200     2.7   \n",
      "\n",
      "                 product_url  created_at  category_id  group_product_id  \\\n",
      "0  http://www.jusighoesa.kr/  2025-03-03           25                 1   \n",
      "1  http://www.jusighoesa.kr/  2025-03-03           25               119   \n",
      "2  http://www.jusighoesa.kr/  2025-03-03           25               206   \n",
      "3  http://www.jusighoesa.kr/  2025-03-03           25               210   \n",
      "4  http://www.jusighoesa.kr/  2025-03-03           25               254   \n",
      "\n",
      "  group_product_name  group_product_price  quantity  product_id2  \n",
      "0             공구상품_1                55997        24          175  \n",
      "1           공구상품_119                57716         7          105  \n",
      "2           공구상품_206                69307        66          103  \n",
      "3           공구상품_210                60452         4          175  \n",
      "4           공구상품_254                25991        92            1  \n"
     ]
    }
   ],
   "source": [
    "# category_id로 조인\n",
    "merged_df = pd.merge(products_df, group_products_df, on='category_id', how='inner')\n",
    "print(f\"\\n=== Merged DataFrame ===\")\n",
    "print(f\"Shape after join: {merged_df.shape}\")\n",
    "print(merged_df.head())"
   ]
  },
  {
   "cell_type": "code",
   "execution_count": 39,
   "id": "f30f4688",
   "metadata": {},
   "outputs": [],
   "source": [
    "# 리더로 참여한 횟수가 2회 이상인 사용자 비율 계산\n",
    "leader_participation = participants_df[participants_df['role'] == '리더'].groupby('user_id').size().reset_index()\n",
    "leader_participation.columns = ['user_id', 'participation_count']\n",
    "\n",
    "# 총 리더 수\n",
    "total_unique_leaders = leader_participation['user_id'].nunique()\n",
    "\n",
    "# 2회 이상 참여한 리더 수\n",
    "repeated_leaders = leader_participation[leader_participation['participation_count'] >= 2]['user_id'].nunique()\n",
    "\n",
    "# 재참여율 계산\n",
    "repeated_rate = (repeated_leaders / total_unique_leaders) * 100"
   ]
  },
  {
   "cell_type": "code",
   "execution_count": 40,
   "id": "e0050c1c",
   "metadata": {},
   "outputs": [
    {
     "name": "stdout",
     "output_type": "stream",
     "text": [
      "리더 1인당 평균 개설 수: 5.11회\n",
      "최소 개설 수: 1회\n",
      "최대 개설 수: 12회\n",
      "중앙값 개설 수: 5.0회\n"
     ]
    },
    {
     "data": {
      "image/png": "[encoded data removed]",
      "text/plain": [
       "<Figure size 1000x600 with 1 Axes>"
      ]
     },
     "metadata": {},
     "output_type": "display_data"
    }
   ],
   "source": [
    "leader_avg_boards = leader_participation['participation_count'].mean()\n",
    "\n",
    "# 리더별 개설 수 분포 히스토그램\n",
    "plt.figure(figsize=(10, 6))\n",
    "sns.histplot(leader_participation['participation_count'], bins=20, kde=True)\n",
    "plt.axvline(x=leader_avg_boards, color='red', linestyle='--', label=f'평균: {leader_avg_boards:.2f}')\n",
    "plt.title('리더별 공구 개설 수 분포', fontsize=15)\n",
    "plt.xlabel('공구 개설 수', fontsize=12)\n",
    "plt.ylabel('리더 수', fontsize=12)\n",
    "plt.grid(axis='y', linestyle='--', alpha=0.7)\n",
    "plt.legend()\n",
    "\n",
    "print(f\"리더 1인당 평균 개설 수: {leader_avg_boards:.2f}회\")\n",
    "print(f\"최소 개설 수: {leader_participation['participation_count'].min()}회\")\n",
    "print(f\"최대 개설 수: {leader_participation['participation_count'].max()}회\")\n",
    "print(f\"중앙값 개설 수: {leader_participation['participation_count'].median()}회\")\n",
    "\n",
    "plt.tight_layout()\n",
    "plt.show()"
   ]
  },
  {
   "cell_type": "code",
   "execution_count": 41,
   "id": "ae045e10",
   "metadata": {},
   "outputs": [
    {
     "name": "stdout",
     "output_type": "stream",
     "text": [
      "카테고리별 공구 게시판 수 (상위 5개):\n",
      "간편조리식품: 26개\n",
      "조리기구: 25개\n",
      "식용유/참기름: 25개\n",
      "제습/방향/탈취: 19개\n",
      "목욕욕품: 18개\n"
     ]
    },
    {
     "name": "stderr",
     "output_type": "stream",
     "text": [
      "/tmp/ipykernel_42849/3245781638.py:26: FutureWarning:\n",
      "\n",
      "\n",
      "\n",
      "Passing `palette` without assigning `hue` is deprecated and will be removed in v0.14.0. Assign the `y` variable to `hue` and set `legend=False` for the same effect.\n",
      "\n",
      "\n"
     ]
    },
    {
     "data": {
      "image/png": "[encoded data removed]",
      "text/plain": [
       "<Figure size 1200x700 with 1 Axes>"
      ]
     },
     "metadata": {},
     "output_type": "display_data"
    }
   ],
   "source": [
    "# 카테고리 대분류 정보 추출\n",
    "large_categories = category_df[category_df['level'] == 'large'][['category_id', 'name']]\n",
    "large_categories.columns = ['parent_category_id', 'large_category_name']\n",
    "\n",
    "# 중분류 카테고리에 대분류 매핑\n",
    "medium_categories = category_df[category_df['level'] == 'medium'].copy()\n",
    "medium_categories = pd.merge(medium_categories, large_categories, on='parent_category_id', how='left')\n",
    "\n",
    "# 공구 게시판과 공구 상품 정보 결합\n",
    "group_product_info = pd.merge(group_boards_df, group_product_df,\n",
    "                             left_on='group_product_id', right_on='group_product_id', how='left')\n",
    "\n",
    "# 카테고리 정보 추가\n",
    "group_product_info = pd.merge(group_product_info, category_df[['category_id', 'name']],\n",
    "                             left_on='category_id', right_on='category_id', how='left')\n",
    "group_product_info.rename(columns={'name': 'category_name'}, inplace=True)\n",
    "\n",
    "# 카테고리별 공구 수 집계\n",
    "category_distribution = group_product_info.groupby('category_name').size().reset_index()\n",
    "category_distribution.columns = ['category_name', 'board_count']\n",
    "category_distribution = category_distribution.sort_values('board_count', ascending=False)\n",
    "\n",
    "# 상위 10개 카테고리 시각화\n",
    "plt.figure(figsize=(12, 7))\n",
    "top_categories = category_distribution.head(10)\n",
    "sns.barplot(x='board_count', y='category_name', data=top_categories, palette='muted')\n",
    "plt.title('카테고리별 공구 게시판 수 (상위 10개)', fontsize=15)\n",
    "plt.xlabel('공구 게시판 수', fontsize=12)\n",
    "plt.ylabel('카테고리', fontsize=12)\n",
    "plt.grid(axis='x', linestyle='--', alpha=0.7)\n",
    "\n",
    "print(\"카테고리별 공구 게시판 수 (상위 5개):\")\n",
    "for i, row in top_categories.head(5).iterrows():\n",
    "    print(f\"{row['category_name']}: {row['board_count']}개\")\n",
    "\n",
    "plt.tight_layout()\n",
    "plt.show()"
   ]
  },
  {
   "cell_type": "markdown",
   "id": "194a9cf2",
   "metadata": {},
   "source": [
    "## 카테고리별 인기 분석 : 평점 분포"
   ]
  },
  {
   "cell_type": "code",
   "execution_count": 42,
   "id": "4f7bbb86",
   "metadata": {},
   "outputs": [],
   "source": [
    "# 데이터 로드\n",
    "products_df = pd.read_csv('../data/products_df_final.csv')\n",
    "group_products_df = pd.read_csv('../data/group_product_df_final.csv')"
   ]
  },
  {
   "cell_type": "code",
   "execution_count": 44,
   "id": "bd3c9f3f",
   "metadata": {},
   "outputs": [
    {
     "data": {
      "text/plain": [
       "Text(0, 0.5, '빈도')"
      ]
     },
     "execution_count": 44,
     "metadata": {},
     "output_type": "execute_result"
    },
    {
     "data": {
      "image/png": "[encoded data removed]",
      "text/plain": [
       "<Figure size 640x480 with 1 Axes>"
      ]
     },
     "metadata": {},
     "output_type": "display_data"
    }
   ],
   "source": [
    "# 평점 분포\n",
    "plt.hist(merged_df['rating'], bins=20, alpha=0.7, color='gold', edgecolor='black')\n",
    "plt.title('평점 분포')\n",
    "plt.xlabel('평점')\n",
    "plt.ylabel('빈도')"
   ]
  },
  {
   "cell_type": "markdown",
   "id": "486a704b",
   "metadata": {},
   "source": [
    "## 지역분석 : 지역별 공구방, 참여자 수, 리더 수"
   ]
  },
  {
   "cell_type": "code",
   "execution_count": 47,
   "id": "6ecfe732",
   "metadata": {},
   "outputs": [],
   "source": [
    "# 데이터 로드\n",
    "products_df = pd.read_csv('../data/products_df_final.csv')\n",
    "group_product_df = pd.read_csv('../data/group_product_df_final.csv')\n",
    "category_df = pd.read_csv('../data/category_df_final.csv')\n",
    "participants_df = pd.read_csv('../data/participants_dummy_data_3000.csv')\n",
    "group_boards_df = pd.read_csv('../data/group_boards_dummy_data_500.csv')\n",
    "user_df = pd.read_csv('../data/user_df_final.csv', encoding='utf-8')"
   ]
  },
  {
   "cell_type": "code",
   "execution_count": 49,
   "id": "46c6f2c5",
   "metadata": {},
   "outputs": [
    {
     "data": {
      "text/html": [
       "<div>\n",
       "<style scoped>\n",
       "    .dataframe tbody tr th:only-of-type {\n",
       "        vertical-align: middle;\n",
       "    }\n",
       "\n",
       "    .dataframe tbody tr th {\n",
       "        vertical-align: top;\n",
       "    }\n",
       "\n",
       "    .dataframe thead th {\n",
       "        text-align: right;\n",
       "    }\n",
       "</style>\n",
       "<table border=\"1\" class=\"dataframe\">\n",
       "  <thead>\n",
       "    <tr style=\"text-align: right;\">\n",
       "      <th></th>\n",
       "      <th>participant_id</th>\n",
       "      <th>chat_room_id</th>\n",
       "      <th>group_board_id</th>\n",
       "      <th>role</th>\n",
       "      <th>joined_at</th>\n",
       "      <th>payment_status</th>\n",
       "      <th>user_id</th>\n",
       "    </tr>\n",
       "  </thead>\n",
       "  <tbody>\n",
       "    <tr>\n",
       "      <th>0</th>\n",
       "      <td>1</td>\n",
       "      <td>328</td>\n",
       "      <td>461</td>\n",
       "      <td>참여자</td>\n",
       "      <td>2025-04-01</td>\n",
       "      <td>납부완료</td>\n",
       "      <td>34</td>\n",
       "    </tr>\n",
       "    <tr>\n",
       "      <th>1</th>\n",
       "      <td>2</td>\n",
       "      <td>58</td>\n",
       "      <td>366</td>\n",
       "      <td>리더</td>\n",
       "      <td>2024-12-19</td>\n",
       "      <td>미납</td>\n",
       "      <td>163</td>\n",
       "    </tr>\n",
       "    <tr>\n",
       "      <th>2</th>\n",
       "      <td>3</td>\n",
       "      <td>13</td>\n",
       "      <td>228</td>\n",
       "      <td>참여자</td>\n",
       "      <td>2024-12-02</td>\n",
       "      <td>미납</td>\n",
       "      <td>176</td>\n",
       "    </tr>\n",
       "    <tr>\n",
       "      <th>3</th>\n",
       "      <td>4</td>\n",
       "      <td>380</td>\n",
       "      <td>45</td>\n",
       "      <td>참여자</td>\n",
       "      <td>2025-04-20</td>\n",
       "      <td>납부완료</td>\n",
       "      <td>249</td>\n",
       "    </tr>\n",
       "    <tr>\n",
       "      <th>4</th>\n",
       "      <td>5</td>\n",
       "      <td>141</td>\n",
       "      <td>415</td>\n",
       "      <td>리더</td>\n",
       "      <td>2025-01-20</td>\n",
       "      <td>납부완료</td>\n",
       "      <td>109</td>\n",
       "    </tr>\n",
       "  </tbody>\n",
       "</table>\n",
       "</div>"
      ],
      "text/plain": [
       "   participant_id  chat_room_id  group_board_id role   joined_at  \\\n",
       "0               1           328             461  참여자  2025-04-01   \n",
       "1               2            58             366   리더  2024-12-19   \n",
       "2               3            13             228  참여자  2024-12-02   \n",
       "3               4           380              45  참여자  2025-04-20   \n",
       "4               5           141             415   리더  2025-01-20   \n",
       "\n",
       "  payment_status  user_id  \n",
       "0           납부완료       34  \n",
       "1             미납      163  \n",
       "2             미납      176  \n",
       "3           납부완료      249  \n",
       "4           납부완료      109  "
      ]
     },
     "execution_count": 49,
     "metadata": {},
     "output_type": "execute_result"
    }
   ],
   "source": [
    "participants_df.head()"
   ]
  },
  {
   "cell_type": "code",
   "execution_count": 50,
   "id": "8a3d30bf",
   "metadata": {},
   "outputs": [
    {
     "data": {
      "text/html": [
       "<div>\n",
       "<style scoped>\n",
       "    .dataframe tbody tr th:only-of-type {\n",
       "        vertical-align: middle;\n",
       "    }\n",
       "\n",
       "    .dataframe tbody tr th {\n",
       "        vertical-align: top;\n",
       "    }\n",
       "\n",
       "    .dataframe thead th {\n",
       "        text-align: right;\n",
       "    }\n",
       "</style>\n",
       "<table border=\"1\" class=\"dataframe\">\n",
       "  <thead>\n",
       "    <tr style=\"text-align: right;\">\n",
       "      <th></th>\n",
       "      <th>group_board_id</th>\n",
       "      <th>title</th>\n",
       "      <th>content</th>\n",
       "      <th>location</th>\n",
       "      <th>status</th>\n",
       "      <th>deadline</th>\n",
       "      <th>created_at</th>\n",
       "      <th>updated_at</th>\n",
       "      <th>total_users</th>\n",
       "      <th>group_product_id</th>\n",
       "    </tr>\n",
       "  </thead>\n",
       "  <tbody>\n",
       "    <tr>\n",
       "      <th>0</th>\n",
       "      <td>1</td>\n",
       "      <td>공구_1</td>\n",
       "      <td>Laboriosam rem placeat error asperiores. Culpa...</td>\n",
       "      <td>수원</td>\n",
       "      <td>마감임박</td>\n",
       "      <td>2025-06-28</td>\n",
       "      <td>2024-12-31</td>\n",
       "      <td>2025-03-26</td>\n",
       "      <td>4</td>\n",
       "      <td>189</td>\n",
       "    </tr>\n",
       "    <tr>\n",
       "      <th>1</th>\n",
       "      <td>2</td>\n",
       "      <td>공구_2</td>\n",
       "      <td>Nemo praesentium deleniti. Et corrupti porro i...</td>\n",
       "      <td>수원</td>\n",
       "      <td>모집마감</td>\n",
       "      <td>2025-05-30</td>\n",
       "      <td>2024-12-05</td>\n",
       "      <td>2025-02-24</td>\n",
       "      <td>10</td>\n",
       "      <td>111</td>\n",
       "    </tr>\n",
       "    <tr>\n",
       "      <th>2</th>\n",
       "      <td>3</td>\n",
       "      <td>공구_3</td>\n",
       "      <td>Aut ex iusto. A mollitia ut illum.</td>\n",
       "      <td>대구</td>\n",
       "      <td>마감임박</td>\n",
       "      <td>2025-06-23</td>\n",
       "      <td>2024-12-08</td>\n",
       "      <td>2025-04-23</td>\n",
       "      <td>12</td>\n",
       "      <td>331</td>\n",
       "    </tr>\n",
       "    <tr>\n",
       "      <th>3</th>\n",
       "      <td>4</td>\n",
       "      <td>공구_4</td>\n",
       "      <td>Soluta ab necessitatibus autem voluptatem. Ist...</td>\n",
       "      <td>대전</td>\n",
       "      <td>공구성공</td>\n",
       "      <td>2025-06-19</td>\n",
       "      <td>2025-01-07</td>\n",
       "      <td>2025-05-04</td>\n",
       "      <td>11</td>\n",
       "      <td>98</td>\n",
       "    </tr>\n",
       "    <tr>\n",
       "      <th>4</th>\n",
       "      <td>5</td>\n",
       "      <td>공구_5</td>\n",
       "      <td>Ea doloremque quidem. Error quam accusamus off...</td>\n",
       "      <td>부산</td>\n",
       "      <td>모집마감</td>\n",
       "      <td>2025-05-30</td>\n",
       "      <td>2025-03-21</td>\n",
       "      <td>2025-01-06</td>\n",
       "      <td>17</td>\n",
       "      <td>498</td>\n",
       "    </tr>\n",
       "  </tbody>\n",
       "</table>\n",
       "</div>"
      ],
      "text/plain": [
       "   group_board_id title                                            content  \\\n",
       "0               1  공구_1  Laboriosam rem placeat error asperiores. Culpa...   \n",
       "1               2  공구_2  Nemo praesentium deleniti. Et corrupti porro i...   \n",
       "2               3  공구_3                 Aut ex iusto. A mollitia ut illum.   \n",
       "3               4  공구_4  Soluta ab necessitatibus autem voluptatem. Ist...   \n",
       "4               5  공구_5  Ea doloremque quidem. Error quam accusamus off...   \n",
       "\n",
       "  location status    deadline  created_at  updated_at  total_users  \\\n",
       "0       수원   마감임박  2025-06-28  2024-12-31  2025-03-26            4   \n",
       "1       수원   모집마감  2025-05-30  2024-12-05  2025-02-24           10   \n",
       "2       대구   마감임박  2025-06-23  2024-12-08  2025-04-23           12   \n",
       "3       대전   공구성공  2025-06-19  2025-01-07  2025-05-04           11   \n",
       "4       부산   모집마감  2025-05-30  2025-03-21  2025-01-06           17   \n",
       "\n",
       "   group_product_id  \n",
       "0               189  \n",
       "1               111  \n",
       "2               331  \n",
       "3                98  \n",
       "4               498  "
      ]
     },
     "execution_count": 50,
     "metadata": {},
     "output_type": "execute_result"
    }
   ],
   "source": [
    "group_boards_df.head()"
   ]
  },
  {
   "cell_type": "code",
   "execution_count": 53,
   "id": "35c5c158",
   "metadata": {},
   "outputs": [
    {
     "name": "stdout",
     "output_type": "stream",
     "text": [
      "\n",
      "=== Merged DataFrame ===\n",
      "Shape after join: (3000, 16)\n",
      "   participant_id  chat_room_id  group_board_id role   joined_at  \\\n",
      "0               1           328             461  참여자  2025-04-01   \n",
      "1               2            58             366   리더  2024-12-19   \n",
      "2               3            13             228  참여자  2024-12-02   \n",
      "3               4           380              45  참여자  2025-04-20   \n",
      "4               5           141             415   리더  2025-01-20   \n",
      "\n",
      "  payment_status  user_id   title  \\\n",
      "0           납부완료       34  공구_461   \n",
      "1             미납      163  공구_366   \n",
      "2             미납      176  공구_228   \n",
      "3           납부완료      249   공구_45   \n",
      "4           납부완료      109  공구_415   \n",
      "\n",
      "                                             content location status  \\\n",
      "0  Totam veniam id rem.\\nMollitia cupiditate vel ...       광주   공구성공   \n",
      "1       Iste unde cumque sapiente. Quod est aliquam.       서울   공구성공   \n",
      "2  Dolore aliquid accusamus consequatur in deseru...       수원   공구성공   \n",
      "3  Cumque aspernatur officia distinctio deleniti ...       대구   마감임박   \n",
      "4  Esse numquam et. Neque voluptas in fugit ut si...       광주   공구성공   \n",
      "\n",
      "     deadline  created_at  updated_at  total_users  group_product_id  \n",
      "0  2025-07-16  2025-01-13  2025-02-15           12               175  \n",
      "1  2025-07-26  2025-02-08  2025-03-25           13               279  \n",
      "2  2025-07-28  2025-05-29  2025-02-23           14               364  \n",
      "3  2025-05-30  2025-04-29  2025-03-10           19                45  \n",
      "4  2025-07-15  2025-03-23  2025-03-11            4               474  \n"
     ]
    }
   ],
   "source": [
    "# category_id로 조인\n",
    "df = pd.merge(participants_df, group_boards_df, on='group_board_id', how='inner')\n",
    "print(f\"\\n=== Merged DataFrame ===\")\n",
    "print(f\"Shape after join: {df.shape}\")\n",
    "print(df.head())"
   ]
  },
  {
   "cell_type": "code",
   "execution_count": 54,
   "id": "fa3a1506",
   "metadata": {},
   "outputs": [
    {
     "name": "stderr",
     "output_type": "stream",
     "text": [
      "/tmp/ipykernel_42849/2057973180.py:25: FutureWarning:\n",
      "\n",
      "\n",
      "\n",
      "Passing `palette` without assigning `hue` is deprecated and will be removed in v0.14.0. Assign the `x` variable to `hue` and set `legend=False` for the same effect.\n",
      "\n",
      "\n",
      "/tmp/ipykernel_42849/2057973180.py:30: FutureWarning:\n",
      "\n",
      "\n",
      "\n",
      "Passing `palette` without assigning `hue` is deprecated and will be removed in v0.14.0. Assign the `x` variable to `hue` and set `legend=False` for the same effect.\n",
      "\n",
      "\n",
      "/tmp/ipykernel_42849/2057973180.py:35: FutureWarning:\n",
      "\n",
      "\n",
      "\n",
      "Passing `palette` without assigning `hue` is deprecated and will be removed in v0.14.0. Assign the `x` variable to `hue` and set `legend=False` for the same effect.\n",
      "\n",
      "\n"
     ]
    },
    {
     "data": {
      "image/png": "[encoded data removed]",
      "text/plain": [
       "<Figure size 1200x1500 with 3 Axes>"
      ]
     },
     "metadata": {},
     "output_type": "display_data"
    }
   ],
   "source": [
    "# 스타일 적용\n",
    "sns.set(style=\"whitegrid\")\n",
    "plt.rcParams['font.family'] = 'NanumGothic'  # 한글 폰트 (Colab에서는 설치 필요)\n",
    "plt.rcParams['axes.unicode_minus'] = False\n",
    "\n",
    "# 공구방 단위로 중복 제거\n",
    "group_boards = df.drop_duplicates(subset='group_board_id')\n",
    "region_group_counts = group_boards['location'].value_counts().reset_index()\n",
    "region_group_counts.columns = ['지역', '공구방 수']\n",
    "\n",
    "# 참여자 수\n",
    "region_participant_counts = df.groupby('location')['user_id'].nunique().reset_index()\n",
    "region_participant_counts.columns = ['지역', '참여자 수']\n",
    "\n",
    "# 리더 수\n",
    "leaders = df[df['role'] == '리더']\n",
    "region_leader_counts = leaders.groupby('location')['user_id'].nunique().reset_index()\n",
    "region_leader_counts.columns = ['지역', '리더 수']\n",
    "\n",
    "# Figure 구성\n",
    "fig, axs = plt.subplots(3, 1, figsize=(12, 15))\n",
    "fig.suptitle(\"지역별 공구 플랫폼 활동 현황\", fontsize=16, fontweight='bold')\n",
    "\n",
    "# 1. 공구방 수\n",
    "sns.barplot(data=region_group_counts, x='지역', y='공구방 수', ax=axs[0], palette='pastel')\n",
    "axs[0].set_title(\"지역별 공구방 수\")\n",
    "axs[0].tick_params(axis='x', rotation=45)\n",
    "\n",
    "# 2. 참여자 수\n",
    "sns.barplot(data=region_participant_counts, x='지역', y='참여자 수', ax=axs[1], palette='muted')\n",
    "axs[1].set_title(\"지역별 참여자 수\")\n",
    "axs[1].tick_params(axis='x', rotation=45)\n",
    "\n",
    "# 3. 리더 수\n",
    "sns.barplot(data=region_leader_counts, x='지역', y='리더 수', ax=axs[2], palette='deep')\n",
    "axs[2].set_title(\"지역별 리더 수\")\n",
    "axs[2].tick_params(axis='x', rotation=45)\n",
    "\n",
    "plt.tight_layout(rect=[0, 0, 1, 0.96])  # 타이틀 영역 확보\n",
    "plt.show()\n"
   ]
  },
  {
   "cell_type": "code",
   "execution_count": null,
   "id": "3e79893d",
   "metadata": {},
   "outputs": [],
   "source": []
  },
  {
   "cell_type": "code",
   "execution_count": null,
   "id": "35843ac3",
   "metadata": {},
   "outputs": [],
   "source": []
  },
  {
   "cell_type": "code",
   "execution_count": null,
   "id": "1b7ce767",
   "metadata": {},
   "outputs": [],
   "source": []
  }
 ],
 "metadata": {
  "kernelspec": {
   "display_name": ".venv",
   "language": "python",
   "name": "python3"
  },
  "language_info": {
   "codemirror_mode": {
    "name": "ipython",
    "version": 3
   },
   "file_extension": ".py",
   "mimetype": "text/x-python",
   "name": "python",
   "nbconvert_exporter": "python",
   "pygments_lexer": "ipython3",
   "version": "3.12.10"
  }
 },
 "nbformat": 4,
 "nbformat_minor": 5
}
