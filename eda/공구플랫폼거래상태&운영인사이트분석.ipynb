{
  "cells": [
    {
      "cell_type": "markdown",
      "metadata": {
        "id": "TsW5yCSzxZ_5"
      },
      "source": [
        "# 공구 플랫폼 거래상태 및 운영 인사이트 분석\n"
      ]
    },
    {
      "cell_type": "markdown",
      "metadata": {
        "id": "LfZUUwe0xgLj"
      },
      "source": [
        "## 라이브러리 임포트\n"
      ]
    },
    {
      "cell_type": "code",
      "execution_count": 1,
      "metadata": {
        "id": "Mi4jYHAEL6CQ"
      },
      "outputs": [],
      "source": [
        "import numpy as np\n",
        "import pandas as pd\n",
        "import plotly.express as px\n",
        "import plotly.graph_objects as go\n",
        "import plotly.figure_factory as ff\n",
        "import plotly.io as pio\n",
        "import warnings\n",
        "\n",
        "from datetime import datetime, timedelta\n",
        "from plotly.subplots import make_subplots"
      ]
    },
    {
      "cell_type": "code",
      "execution_count": 2,
      "metadata": {
        "id": "mSLbvPEvxxV2"
      },
      "outputs": [],
      "source": [
        "warnings.filterwarnings('ignore')\n",
        "pio.renderers.default = \"vscode\""
      ]
    },
    {
      "cell_type": "markdown",
      "metadata": {
        "id": "vMk5QcH4x2n3"
      },
      "source": [
        "## 데이터 로드 및 기본 정보\n"
      ]
    },
    {
      "cell_type": "code",
      "execution_count": 3,
      "metadata": {
        "colab": {
          "base_uri": "https://localhost:8080/"
        },
        "id": "eMgea1dvx0Tf",
        "outputId": "a7924b07-5c24-4f1b-e032-fbb116141109"
      },
      "outputs": [
        {
          "name": "stdout",
          "output_type": "stream",
          "text": [
            "Group Boards: 500행 × 10열\n",
            "Participants: 3,000행 × 7열\n",
            "\n",
            "Group Boards 컬럼 정보:\n",
            "<class 'pandas.core.frame.DataFrame'>\n",
            "RangeIndex: 500 entries, 0 to 499\n",
            "Data columns (total 10 columns):\n",
            " #   Column            Non-Null Count  Dtype \n",
            "---  ------            --------------  ----- \n",
            " 0   group_board_id    500 non-null    int64 \n",
            " 1   title             500 non-null    object\n",
            " 2   content           500 non-null    object\n",
            " 3   location          500 non-null    object\n",
            " 4   status            500 non-null    object\n",
            " 5   deadline          500 non-null    object\n",
            " 6   created_at        500 non-null    object\n",
            " 7   updated_at        500 non-null    object\n",
            " 8   total_users       500 non-null    int64 \n",
            " 9   group_product_id  500 non-null    int64 \n",
            "dtypes: int64(3), object(7)\n",
            "memory usage: 30.0+ KB\n",
            "None\n",
            "\n",
            "Participants 컬럼 정보:\n",
            "<class 'pandas.core.frame.DataFrame'>\n",
            "RangeIndex: 3000 entries, 0 to 2999\n",
            "Data columns (total 7 columns):\n",
            " #   Column          Non-Null Count  Dtype \n",
            "---  ------          --------------  ----- \n",
            " 0   participant_id  3000 non-null   int64 \n",
            " 1   chat_room_id    3000 non-null   int64 \n",
            " 2   group_board_id  3000 non-null   int64 \n",
            " 3   role            3000 non-null   object\n",
            " 4   joined_at       3000 non-null   object\n",
            " 5   payment_status  3000 non-null   object\n",
            " 6   user_id         3000 non-null   int64 \n",
            "dtypes: int64(4), object(3)\n",
            "memory usage: 100.0+ KB\n",
            "None\n",
            "\n",
            "Group Boards 샘플 데이터:\n",
            "   group_board_id title                                            content  \\\n",
            "0               1  공구_1  Laboriosam rem placeat error asperiores. Culpa...   \n",
            "1               2  공구_2  Nemo praesentium deleniti. Et corrupti porro i...   \n",
            "2               3  공구_3                 Aut ex iusto. A mollitia ut illum.   \n",
            "3               4  공구_4  Soluta ab necessitatibus autem voluptatem. Ist...   \n",
            "4               5  공구_5  Ea doloremque quidem. Error quam accusamus off...   \n",
            "\n",
            "  location status    deadline  created_at  updated_at  total_users  \\\n",
            "0       수원   마감임박  2025-06-28  2024-12-31  2025-03-26            4   \n",
            "1       수원   모집마감  2025-05-30  2024-12-05  2025-02-24           10   \n",
            "2       대구   마감임박  2025-06-23  2024-12-08  2025-04-23           12   \n",
            "3       대전   공구성공  2025-06-19  2025-01-07  2025-05-04           11   \n",
            "4       부산   모집마감  2025-05-30  2025-03-21  2025-01-06           17   \n",
            "\n",
            "   group_product_id  \n",
            "0               189  \n",
            "1               111  \n",
            "2               331  \n",
            "3                98  \n",
            "4               498  \n",
            "\n",
            "Participants 샘플 데이터:\n",
            "   participant_id  chat_room_id  group_board_id role   joined_at  \\\n",
            "0               1           328             461  참여자  2025-04-01   \n",
            "1               2            58             366   리더  2024-12-19   \n",
            "2               3            13             228  참여자  2024-12-02   \n",
            "3               4           380              45  참여자  2025-04-20   \n",
            "4               5           141             415   리더  2025-01-20   \n",
            "\n",
            "  payment_status  user_id  \n",
            "0           납부완료       34  \n",
            "1             미납      163  \n",
            "2             미납      176  \n",
            "3           납부완료      249  \n",
            "4           납부완료      109  \n"
          ]
        }
      ],
      "source": [
        "# 데이터 로드\n",
        "group_boards = pd.read_csv('../data/group_boards_dummy_data_500.csv')\n",
        "participants = pd.read_csv('../data/participants_dummy_data_3000.csv')\n",
        "\n",
        "print(f\"Group Boards: {group_boards.shape[0]:,}행 × {group_boards.shape[1]}열\")\n",
        "print(f\"Participants: {participants.shape[0]:,}행 × {participants.shape[1]}열\")\n",
        "\n",
        "# 기본 정보 출력\n",
        "print(\"\\nGroup Boards 컬럼 정보:\")\n",
        "print(group_boards.info())\n",
        "\n",
        "print(\"\\nParticipants 컬럼 정보:\")\n",
        "print(participants.info())\n",
        "\n",
        "# 샘플 데이터 확인\n",
        "print(\"\\nGroup Boards 샘플 데이터:\")\n",
        "print(group_boards.head())\n",
        "\n",
        "print(\"\\nParticipants 샘플 데이터:\")\n",
        "print(participants.head())"
      ]
    },
    {
      "cell_type": "markdown",
      "metadata": {
        "id": "shUg_cPEuji7"
      },
      "source": [
        "## 데이터 전처리\n"
      ]
    },
    {
      "cell_type": "code",
      "execution_count": 4,
      "metadata": {
        "colab": {
          "base_uri": "https://localhost:8080/"
        },
        "id": "4afB4nN2ulx_",
        "outputId": "8f16d7a2-be4b-49d7-df71-8dfa48a7c716"
      },
      "outputs": [
        {
          "name": "stdout",
          "output_type": "stream",
          "text": [
            "\n",
            "기본 통계:\n",
            "- 분석 기간: 2024-11-28 ~ 2025-05-29\n",
            "- 참가자 가입 기간: 2024-11-28 ~ 2025-05-29\n",
            "\n",
            "공구 상태 종류: ['마감임박' '모집마감' '공구성공' '모집중']\n",
            "참가자 역할 종류: ['참여자' '리더']\n",
            "지역 종류: ['수원' '대구' '대전' '부산' '울산' '서울' '광주' '인천']\n"
          ]
        }
      ],
      "source": [
        "# 날짜 컬럼 변환\n",
        "group_boards['created_at'] = pd.to_datetime(group_boards['created_at'])\n",
        "group_boards['deadline'] = pd.to_datetime(group_boards['deadline'])\n",
        "group_boards['updated_at'] = pd.to_datetime(group_boards['updated_at'])\n",
        "participants['joined_at'] = pd.to_datetime(participants['joined_at'])\n",
        "\n",
        "# 월 컬럼 추가\n",
        "group_boards['created_month'] = group_boards['created_at'].dt.to_period('M')\n",
        "participants['joined_month'] = participants['joined_at'].dt.to_period('M')\n",
        "\n",
        "# 공구 기간 계산\n",
        "group_boards['duration_days'] = (group_boards['deadline'] - group_boards['created_at']).dt.days\n",
        "\n",
        "# 요일 정보 추가\n",
        "group_boards['created_weekday'] = group_boards['created_at'].dt.day_name()\n",
        "participants['joined_weekday'] = participants['joined_at'].dt.day_name()\n",
        "\n",
        "# 기본 통계 확인\n",
        "print(f\"\\n기본 통계:\")\n",
        "print(f\"- 분석 기간: {group_boards['created_at'].min().strftime('%Y-%m-%d')} ~ {group_boards['created_at'].max().strftime('%Y-%m-%d')}\")\n",
        "print(f\"- 참가자 가입 기간: {participants['joined_at'].min().strftime('%Y-%m-%d')} ~ {participants['joined_at'].max().strftime('%Y-%m-%d')}\")\n",
        "\n",
        "# 상태 및 역할 값 확인\n",
        "print(f\"\\n공구 상태 종류: {group_boards['status'].unique()}\")\n",
        "print(f\"참가자 역할 종류: {participants['role'].unique()}\")\n",
        "print(f\"지역 종류: {group_boards['location'].unique()}\")"
      ]
    },
    {
      "cell_type": "markdown",
      "metadata": {
        "id": "_LF-kmDVy-Gy"
      },
      "source": [
        "## 거래 상태 요약 분석\n"
      ]
    },
    {
      "cell_type": "markdown",
      "metadata": {
        "id": "xO9vZMASzGUl"
      },
      "source": [
        "### 전체 공구 진행 현황 요약\n"
      ]
    },
    {
      "cell_type": "code",
      "execution_count": 5,
      "metadata": {
        "colab": {
          "base_uri": "https://localhost:8080/"
        },
        "id": "PG5a0lXPzIqn",
        "outputId": "c4f627e9-8546-442f-a38f-bc391d50e25c"
      },
      "outputs": [
        {
          "name": "stdout",
          "output_type": "stream",
          "text": [
            "핵심 KPI 지표:\n",
            "==================================================\n",
            "총 공구 수: 500개\n",
            "완료 공구 수: 131개\n",
            "실패 공구 수: 113개\n",
            "진행중 공구 수: 256개\n",
            "마감률 (완료/전체): 20.0%\n",
            "실패율: 20.0%\n"
          ]
        }
      ],
      "source": [
        "# 기본 KPI 계산\n",
        "total_groups = len(group_boards)\n",
        "completed_groups = len(group_boards[group_boards['status'] == '공구성공'])\n",
        "failed_groups = len(group_boards[group_boards['status'] == '모집마감'])\n",
        "pending_groups = len(group_boards[group_boards['status'].isin(['모집중', '마감임박'])])\n",
        "\n",
        "# 마감률 및 실패율 계산\n",
        "completion_rate = (completed_groups / total_groups) * 100 if total_groups > 0 else 0\n",
        "failure_rate = (failed_groups / total_groups) * 100 if total_groups > 0 else 0\n",
        "\n",
        "print(\"핵심 KPI 지표:\")\n",
        "print(f\"{'=' * 50}\")\n",
        "print(f\"총 공구 수: {total_groups:,}개\")\n",
        "print(f\"완료 공구 수: {completed_groups:,}개\")\n",
        "print(f\"실패 공구 수: {failed_groups:,}개\")\n",
        "print(f\"진행중 공구 수: {pending_groups:,}개\")\n",
        "print(f\"마감률 (완료/전체): {completion_rate:.1f}%\")\n",
        "print(f\"실패율: {failure_rate:.1f}%\")"
      ]
    },
    {
      "cell_type": "markdown",
      "metadata": {
        "id": "IlM6uhCczMiJ"
      },
      "source": [
        "### 상태별 상세 분석\n"
      ]
    },
    {
      "cell_type": "code",
      "execution_count": 6,
      "metadata": {
        "colab": {
          "base_uri": "https://localhost:8080/"
        },
        "id": "bYVNqptyzQyp",
        "outputId": "59822daf-4051-41a1-de91-b1dcd63d8127"
      },
      "outputs": [
        {
          "name": "stdout",
          "output_type": "stream",
          "text": [
            "\n",
            "상태별 상세 현황:\n",
            "- 마감임박: 134개 (20.0%)\n",
            "- 공구성공: 131개 (20.0%)\n",
            "- 모집중: 122개 (20.0%)\n",
            "- 모집마감: 113개 (20.0%)\n"
          ]
        }
      ],
      "source": [
        "status_summary = group_boards['status'].value_counts()\n",
        "status_percentage = group_boards['status'].value_counts(normalize=True) * 100\n",
        "\n",
        "print(f\"\\n상태별 상세 현황:\")\n",
        "for status, count in status_summary.items():\n",
        "  percentage = status_percentage[status]\n",
        "  print(f\"- {status}: {count:,}개 ({percentage:.1f}%)\")"
      ]
    },
    {
      "cell_type": "markdown",
      "metadata": {
        "id": "RA8AOyxczVMi"
      },
      "source": [
        "### 지역별 성과 분석\n"
      ]
    },
    {
      "cell_type": "code",
      "execution_count": 7,
      "metadata": {
        "colab": {
          "base_uri": "https://localhost:8080/"
        },
        "id": "vL9qnaK1zXx-",
        "outputId": "e4fe7096-1d5b-4475-b1c2-23a611be8c61"
      },
      "outputs": [
        {
          "name": "stdout",
          "output_type": "stream",
          "text": [
            "\n",
            "지역별 공구 수:\n",
            "- 대전: 71개\n",
            "- 대구: 70개\n",
            "- 인천: 67개\n",
            "- 울산: 64개\n",
            "- 부산: 62개\n",
            "- 수원: 60개\n",
            "- 광주: 55개\n",
            "- 서울: 51개\n",
            "\n",
            "지역별 성공률 (높은 순):\n",
            "- 수원: 30.0%\n",
            "- 부산: 30.0%\n",
            "- 인천: 20.0%\n",
            "- 서울: 20.0%\n",
            "- 울산: 20.0%\n",
            "- 대구: 20.0%\n",
            "- 대전: 20.0%\n",
            "- 광주: 20.0%\n",
            "\n",
            "지역별 실패율 (높은 순) - 우선 개선 대상:\n",
            "- 광주: 30.0%\n",
            "- 부산: 20.0%\n",
            "- 대전: 20.0%\n",
            "- 대구: 20.0%\n",
            "- 울산: 10.0%\n"
          ]
        }
      ],
      "source": [
        "# 지역별 공구 수\n",
        "location_counts = group_boards['location'].value_counts()\n",
        "print(f\"\\n지역별 공구 수:\")\n",
        "for location, count in location_counts.items():\n",
        "  print(f\"- {location}: {count:,}개\")\n",
        "\n",
        "# 지역별 성공률 계산\n",
        "location_success_rate = group_boards.groupby('location')['status'].apply(\n",
        "    lambda x: (x == '공구성공').sum() / len(x) * 100\n",
        ").sort_values(ascending=False)\n",
        "\n",
        "print(f\"\\n지역별 성공률 (높은 순):\")\n",
        "for location, rate in location_success_rate.items():\n",
        "  print(f\"- {location}: {rate:.1f}%\")\n",
        "\n",
        "# 지역별 실패율 계산 (우선 개선 대상)\n",
        "location_failure_rate = group_boards.groupby('location')['status'].apply(\n",
        "    lambda x: (x == '모집마감').sum() / len(x) * 100\n",
        ").sort_values(ascending=False)\n",
        "\n",
        "print(f\"\\n지역별 실패율 (높은 순) - 우선 개선 대상:\")\n",
        "for location, rate in location_failure_rate.head().items():\n",
        "  print(f\"- {location}: {rate:.1f}%\")"
      ]
    },
    {
      "cell_type": "markdown",
      "metadata": {
        "id": "_D3iygQLzcIA"
      },
      "source": [
        "### 거래 상태 시각화\n"
      ]
    },
    {
      "cell_type": "code",
      "execution_count": 8,
      "metadata": {
        "colab": {
          "base_uri": "https://localhost:8080/",
          "height": 1000
        },
        "id": "fKU2PDKwzgaQ",
        "outputId": "7f9f2980-a979-498c-9510-92ea0ad8c88c"
      },
      "outputs": [
        {
          "data": {
            "application/vnd.plotly.v1+json": {
              "config": {
                "plotlyServerURL": "https://plot.ly"
              },
              "data": [
                {
                  "domain": {
                    "x": [
                      0,
                      1
                    ],
                    "y": [
                      0,
                      1
                    ]
                  },
                  "hovertemplate": "label=%{label}<br>value=%{value}<extra></extra>",
                  "labels": [
                    "마감임박",
                    "공구성공",
                    "모집중",
                    "모집마감"
                  ],
                  "legendgroup": "",
                  "name": "",
                  "showlegend": true,
                  "textinfo": "percent+label",
                  "textposition": "inside",
                  "type": "pie",
                  "values": {
                    "bdata": "hgCDAHoAcQA=",
                    "dtype": "i2"
                  }
                }
              ],
              "layout": {
                "height": 500,
                "legend": {
                  "tracegroupgap": 0
                },
                "piecolorway": [
                  "rgb(141,211,199)",
                  "rgb(255,255,179)",
                  "rgb(190,186,218)",
                  "rgb(251,128,114)",
                  "rgb(128,177,211)",
                  "rgb(253,180,98)",
                  "rgb(179,222,105)",
                  "rgb(252,205,229)",
                  "rgb(217,217,217)",
                  "rgb(188,128,189)",
                  "rgb(204,235,197)",
                  "rgb(255,237,111)"
                ],
                "template": {
                  "data": {
                    "bar": [
                      {
                        "error_x": {
                          "color": "#2a3f5f"
                        },
                        "error_y": {
                          "color": "#2a3f5f"
                        },
                        "marker": {
                          "line": {
                            "color": "#E5ECF6",
                            "width": 0.5
                          },
                          "pattern": {
                            "fillmode": "overlay",
                            "size": 10,
                            "solidity": 0.2
                          }
                        },
                        "type": "bar"
                      }
                    ],
                    "barpolar": [
                      {
                        "marker": {
                          "line": {
                            "color": "#E5ECF6",
                            "width": 0.5
                          },
                          "pattern": {
                            "fillmode": "overlay",
                            "size": 10,
                            "solidity": 0.2
                          }
                        },
                        "type": "barpolar"
                      }
                    ],
                    "carpet": [
                      {
                        "aaxis": {
                          "endlinecolor": "#2a3f5f",
                          "gridcolor": "white",
                          "linecolor": "white",
                          "minorgridcolor": "white",
                          "startlinecolor": "#2a3f5f"
                        },
                        "baxis": {
                          "endlinecolor": "#2a3f5f",
                          "gridcolor": "white",
                          "linecolor": "white",
                          "minorgridcolor": "white",
                          "startlinecolor": "#2a3f5f"
                        },
                        "type": "carpet"
                      }
                    ],
                    "choropleth": [
                      {
                        "colorbar": {
                          "outlinewidth": 0,
                          "ticks": ""
                        },
                        "type": "choropleth"
                      }
                    ],
                    "contour": [
                      {
                        "colorbar": {
                          "outlinewidth": 0,
                          "ticks": ""
                        },
                        "colorscale": [
                          [
                            0,
                            "#0d0887"
                          ],
                          [
                            0.1111111111111111,
                            "#46039f"
                          ],
                          [
                            0.2222222222222222,
                            "#7201a8"
                          ],
                          [
                            0.3333333333333333,
                            "#9c179e"
                          ],
                          [
                            0.4444444444444444,
                            "#bd3786"
                          ],
                          [
                            0.5555555555555556,
                            "#d8576b"
                          ],
                          [
                            0.6666666666666666,
                            "#ed7953"
                          ],
                          [
                            0.7777777777777778,
                            "#fb9f3a"
                          ],
                          [
                            0.8888888888888888,
                            "#fdca26"
                          ],
                          [
                            1,
                            "#f0f921"
                          ]
                        ],
                        "type": "contour"
                      }
                    ],
                    "contourcarpet": [
                      {
                        "colorbar": {
                          "outlinewidth": 0,
                          "ticks": ""
                        },
                        "type": "contourcarpet"
                      }
                    ],
                    "heatmap": [
                      {
                        "colorbar": {
                          "outlinewidth": 0,
                          "ticks": ""
                        },
                        "colorscale": [
                          [
                            0,
                            "#0d0887"
                          ],
                          [
                            0.1111111111111111,
                            "#46039f"
                          ],
                          [
                            0.2222222222222222,
                            "#7201a8"
                          ],
                          [
                            0.3333333333333333,
                            "#9c179e"
                          ],
                          [
                            0.4444444444444444,
                            "#bd3786"
                          ],
                          [
                            0.5555555555555556,
                            "#d8576b"
                          ],
                          [
                            0.6666666666666666,
                            "#ed7953"
                          ],
                          [
                            0.7777777777777778,
                            "#fb9f3a"
                          ],
                          [
                            0.8888888888888888,
                            "#fdca26"
                          ],
                          [
                            1,
                            "#f0f921"
                          ]
                        ],
                        "type": "heatmap"
                      }
                    ],
                    "histogram": [
                      {
                        "marker": {
                          "pattern": {
                            "fillmode": "overlay",
                            "size": 10,
                            "solidity": 0.2
                          }
                        },
                        "type": "histogram"
                      }
                    ],
                    "histogram2d": [
                      {
                        "colorbar": {
                          "outlinewidth": 0,
                          "ticks": ""
                        },
                        "colorscale": [
                          [
                            0,
                            "#0d0887"
                          ],
                          [
                            0.1111111111111111,
                            "#46039f"
                          ],
                          [
                            0.2222222222222222,
                            "#7201a8"
                          ],
                          [
                            0.3333333333333333,
                            "#9c179e"
                          ],
                          [
                            0.4444444444444444,
                            "#bd3786"
                          ],
                          [
                            0.5555555555555556,
                            "#d8576b"
                          ],
                          [
                            0.6666666666666666,
                            "#ed7953"
                          ],
                          [
                            0.7777777777777778,
                            "#fb9f3a"
                          ],
                          [
                            0.8888888888888888,
                            "#fdca26"
                          ],
                          [
                            1,
                            "#f0f921"
                          ]
                        ],
                        "type": "histogram2d"
                      }
                    ],
                    "histogram2dcontour": [
                      {
                        "colorbar": {
                          "outlinewidth": 0,
                          "ticks": ""
                        },
                        "colorscale": [
                          [
                            0,
                            "#0d0887"
                          ],
                          [
                            0.1111111111111111,
                            "#46039f"
                          ],
                          [
                            0.2222222222222222,
                            "#7201a8"
                          ],
                          [
                            0.3333333333333333,
                            "#9c179e"
                          ],
                          [
                            0.4444444444444444,
                            "#bd3786"
                          ],
                          [
                            0.5555555555555556,
                            "#d8576b"
                          ],
                          [
                            0.6666666666666666,
                            "#ed7953"
                          ],
                          [
                            0.7777777777777778,
                            "#fb9f3a"
                          ],
                          [
                            0.8888888888888888,
                            "#fdca26"
                          ],
                          [
                            1,
                            "#f0f921"
                          ]
                        ],
                        "type": "histogram2dcontour"
                      }
                    ],
                    "mesh3d": [
                      {
                        "colorbar": {
                          "outlinewidth": 0,
                          "ticks": ""
                        },
                        "type": "mesh3d"
                      }
                    ],
                    "parcoords": [
                      {
                        "line": {
                          "colorbar": {
                            "outlinewidth": 0,
                            "ticks": ""
                          }
                        },
                        "type": "parcoords"
                      }
                    ],
                    "pie": [
                      {
                        "automargin": true,
                        "type": "pie"
                      }
                    ],
                    "scatter": [
                      {
                        "fillpattern": {
                          "fillmode": "overlay",
                          "size": 10,
                          "solidity": 0.2
                        },
                        "type": "scatter"
                      }
                    ],
                    "scatter3d": [
                      {
                        "line": {
                          "colorbar": {
                            "outlinewidth": 0,
                            "ticks": ""
                          }
                        },
                        "marker": {
                          "colorbar": {
                            "outlinewidth": 0,
                            "ticks": ""
                          }
                        },
                        "type": "scatter3d"
                      }
                    ],
                    "scattercarpet": [
                      {
                        "marker": {
                          "colorbar": {
                            "outlinewidth": 0,
                            "ticks": ""
                          }
                        },
                        "type": "scattercarpet"
                      }
                    ],
                    "scattergeo": [
                      {
                        "marker": {
                          "colorbar": {
                            "outlinewidth": 0,
                            "ticks": ""
                          }
                        },
                        "type": "scattergeo"
                      }
                    ],
                    "scattergl": [
                      {
                        "marker": {
                          "colorbar": {
                            "outlinewidth": 0,
                            "ticks": ""
                          }
                        },
                        "type": "scattergl"
                      }
                    ],
                    "scattermap": [
                      {
                        "marker": {
                          "colorbar": {
                            "outlinewidth": 0,
                            "ticks": ""
                          }
                        },
                        "type": "scattermap"
                      }
                    ],
                    "scattermapbox": [
                      {
                        "marker": {
                          "colorbar": {
                            "outlinewidth": 0,
                            "ticks": ""
                          }
                        },
                        "type": "scattermapbox"
                      }
                    ],
                    "scatterpolar": [
                      {
                        "marker": {
                          "colorbar": {
                            "outlinewidth": 0,
                            "ticks": ""
                          }
                        },
                        "type": "scatterpolar"
                      }
                    ],
                    "scatterpolargl": [
                      {
                        "marker": {
                          "colorbar": {
                            "outlinewidth": 0,
                            "ticks": ""
                          }
                        },
                        "type": "scatterpolargl"
                      }
                    ],
                    "scatterternary": [
                      {
                        "marker": {
                          "colorbar": {
                            "outlinewidth": 0,
                            "ticks": ""
                          }
                        },
                        "type": "scatterternary"
                      }
                    ],
                    "surface": [
                      {
                        "colorbar": {
                          "outlinewidth": 0,
                          "ticks": ""
                        },
                        "colorscale": [
                          [
                            0,
                            "#0d0887"
                          ],
                          [
                            0.1111111111111111,
                            "#46039f"
                          ],
                          [
                            0.2222222222222222,
                            "#7201a8"
                          ],
                          [
                            0.3333333333333333,
                            "#9c179e"
                          ],
                          [
                            0.4444444444444444,
                            "#bd3786"
                          ],
                          [
                            0.5555555555555556,
                            "#d8576b"
                          ],
                          [
                            0.6666666666666666,
                            "#ed7953"
                          ],
                          [
                            0.7777777777777778,
                            "#fb9f3a"
                          ],
                          [
                            0.8888888888888888,
                            "#fdca26"
                          ],
                          [
                            1,
                            "#f0f921"
                          ]
                        ],
                        "type": "surface"
                      }
                    ],
                    "table": [
                      {
                        "cells": {
                          "fill": {
                            "color": "#EBF0F8"
                          },
                          "line": {
                            "color": "white"
                          }
                        },
                        "header": {
                          "fill": {
                            "color": "#C8D4E3"
                          },
                          "line": {
                            "color": "white"
                          }
                        },
                        "type": "table"
                      }
                    ]
                  },
                  "layout": {
                    "annotationdefaults": {
                      "arrowcolor": "#2a3f5f",
                      "arrowhead": 0,
                      "arrowwidth": 1
                    },
                    "autotypenumbers": "strict",
                    "coloraxis": {
                      "colorbar": {
                        "outlinewidth": 0,
                        "ticks": ""
                      }
                    },
                    "colorscale": {
                      "diverging": [
                        [
                          0,
                          "#8e0152"
                        ],
                        [
                          0.1,
                          "#c51b7d"
                        ],
                        [
                          0.2,
                          "#de77ae"
                        ],
                        [
                          0.3,
                          "#f1b6da"
                        ],
                        [
                          0.4,
                          "#fde0ef"
                        ],
                        [
                          0.5,
                          "#f7f7f7"
                        ],
                        [
                          0.6,
                          "#e6f5d0"
                        ],
                        [
                          0.7,
                          "#b8e186"
                        ],
                        [
                          0.8,
                          "#7fbc41"
                        ],
                        [
                          0.9,
                          "#4d9221"
                        ],
                        [
                          1,
                          "#276419"
                        ]
                      ],
                      "sequential": [
                        [
                          0,
                          "#0d0887"
                        ],
                        [
                          0.1111111111111111,
                          "#46039f"
                        ],
                        [
                          0.2222222222222222,
                          "#7201a8"
                        ],
                        [
                          0.3333333333333333,
                          "#9c179e"
                        ],
                        [
                          0.4444444444444444,
                          "#bd3786"
                        ],
                        [
                          0.5555555555555556,
                          "#d8576b"
                        ],
                        [
                          0.6666666666666666,
                          "#ed7953"
                        ],
                        [
                          0.7777777777777778,
                          "#fb9f3a"
                        ],
                        [
                          0.8888888888888888,
                          "#fdca26"
                        ],
                        [
                          1,
                          "#f0f921"
                        ]
                      ],
                      "sequentialminus": [
                        [
                          0,
                          "#0d0887"
                        ],
                        [
                          0.1111111111111111,
                          "#46039f"
                        ],
                        [
                          0.2222222222222222,
                          "#7201a8"
                        ],
                        [
                          0.3333333333333333,
                          "#9c179e"
                        ],
                        [
                          0.4444444444444444,
                          "#bd3786"
                        ],
                        [
                          0.5555555555555556,
                          "#d8576b"
                        ],
                        [
                          0.6666666666666666,
                          "#ed7953"
                        ],
                        [
                          0.7777777777777778,
                          "#fb9f3a"
                        ],
                        [
                          0.8888888888888888,
                          "#fdca26"
                        ],
                        [
                          1,
                          "#f0f921"
                        ]
                      ]
                    },
                    "colorway": [
                      "#636efa",
                      "#EF553B",
                      "#00cc96",
                      "#ab63fa",
                      "#FFA15A",
                      "#19d3f3",
                      "#FF6692",
                      "#B6E880",
                      "#FF97FF",
                      "#FECB52"
                    ],
                    "font": {
                      "color": "#2a3f5f"
                    },
                    "geo": {
                      "bgcolor": "white",
                      "lakecolor": "white",
                      "landcolor": "#E5ECF6",
                      "showlakes": true,
                      "showland": true,
                      "subunitcolor": "white"
                    },
                    "hoverlabel": {
                      "align": "left"
                    },
                    "hovermode": "closest",
                    "mapbox": {
                      "style": "light"
                    },
                    "paper_bgcolor": "white",
                    "plot_bgcolor": "#E5ECF6",
                    "polar": {
                      "angularaxis": {
                        "gridcolor": "white",
                        "linecolor": "white",
                        "ticks": ""
                      },
                      "bgcolor": "#E5ECF6",
                      "radialaxis": {
                        "gridcolor": "white",
                        "linecolor": "white",
                        "ticks": ""
                      }
                    },
                    "scene": {
                      "xaxis": {
                        "backgroundcolor": "#E5ECF6",
                        "gridcolor": "white",
                        "gridwidth": 2,
                        "linecolor": "white",
                        "showbackground": true,
                        "ticks": "",
                        "zerolinecolor": "white"
                      },
                      "yaxis": {
                        "backgroundcolor": "#E5ECF6",
                        "gridcolor": "white",
                        "gridwidth": 2,
                        "linecolor": "white",
                        "showbackground": true,
                        "ticks": "",
                        "zerolinecolor": "white"
                      },
                      "zaxis": {
                        "backgroundcolor": "#E5ECF6",
                        "gridcolor": "white",
                        "gridwidth": 2,
                        "linecolor": "white",
                        "showbackground": true,
                        "ticks": "",
                        "zerolinecolor": "white"
                      }
                    },
                    "shapedefaults": {
                      "line": {
                        "color": "#2a3f5f"
                      }
                    },
                    "ternary": {
                      "aaxis": {
                        "gridcolor": "white",
                        "linecolor": "white",
                        "ticks": ""
                      },
                      "baxis": {
                        "gridcolor": "white",
                        "linecolor": "white",
                        "ticks": ""
                      },
                      "bgcolor": "#E5ECF6",
                      "caxis": {
                        "gridcolor": "white",
                        "linecolor": "white",
                        "ticks": ""
                      }
                    },
                    "title": {
                      "x": 0.05
                    },
                    "xaxis": {
                      "automargin": true,
                      "gridcolor": "white",
                      "linecolor": "white",
                      "ticks": "",
                      "title": {
                        "standoff": 15
                      },
                      "zerolinecolor": "white",
                      "zerolinewidth": 2
                    },
                    "yaxis": {
                      "automargin": true,
                      "gridcolor": "white",
                      "linecolor": "white",
                      "ticks": "",
                      "title": {
                        "standoff": 15
                      },
                      "zerolinecolor": "white",
                      "zerolinewidth": 2
                    }
                  }
                },
                "title": {
                  "font": {
                    "size": 16
                  },
                  "text": "전체 공구 상태 분포"
                },
                "width": 600
              }
            }
          },
          "metadata": {},
          "output_type": "display_data"
        },
        {
          "data": {
            "application/vnd.plotly.v1+json": {
              "config": {
                "plotlyServerURL": "https://plot.ly"
              },
              "data": [
                {
                  "hovertemplate": "지역=%{x}<br>성공률 (%)=%{y}<br>color=%{marker.color}<extra></extra>",
                  "legendgroup": "",
                  "marker": {
                    "color": {
                      "bdata": "qqqqqqqqQECllFJKKaU+QCbSA5WzWzxAfX19fX19OUAAAAAAAAA5QLdt27Zt2zZAIdEKmwOJNkDRRRdddNE1QA==",
                      "dtype": "f8"
                    },
                    "coloraxis": "coloraxis",
                    "pattern": {
                      "shape": ""
                    }
                  },
                  "name": "",
                  "orientation": "v",
                  "showlegend": false,
                  "textposition": "auto",
                  "type": "bar",
                  "x": [
                    "수원",
                    "부산",
                    "인천",
                    "서울",
                    "울산",
                    "대구",
                    "대전",
                    "광주"
                  ],
                  "xaxis": "x",
                  "y": {
                    "bdata": "qqqqqqqqQECllFJKKaU+QCbSA5WzWzxAfX19fX19OUAAAAAAAAA5QLdt27Zt2zZAIdEKmwOJNkDRRRdddNE1QA==",
                    "dtype": "f8"
                  },
                  "yaxis": "y"
                }
              ],
              "layout": {
                "barmode": "relative",
                "coloraxis": {
                  "colorbar": {
                    "title": {
                      "text": "color"
                    }
                  },
                  "colorscale": [
                    [
                      0,
                      "rgb(247,252,245)"
                    ],
                    [
                      0.125,
                      "rgb(229,245,224)"
                    ],
                    [
                      0.25,
                      "rgb(199,233,192)"
                    ],
                    [
                      0.375,
                      "rgb(161,217,155)"
                    ],
                    [
                      0.5,
                      "rgb(116,196,118)"
                    ],
                    [
                      0.625,
                      "rgb(65,171,93)"
                    ],
                    [
                      0.75,
                      "rgb(35,139,69)"
                    ],
                    [
                      0.875,
                      "rgb(0,109,44)"
                    ],
                    [
                      1,
                      "rgb(0,68,27)"
                    ]
                  ]
                },
                "height": 500,
                "legend": {
                  "tracegroupgap": 0
                },
                "template": {
                  "data": {
                    "bar": [
                      {
                        "error_x": {
                          "color": "#2a3f5f"
                        },
                        "error_y": {
                          "color": "#2a3f5f"
                        },
                        "marker": {
                          "line": {
                            "color": "#E5ECF6",
                            "width": 0.5
                          },
                          "pattern": {
                            "fillmode": "overlay",
                            "size": 10,
                            "solidity": 0.2
                          }
                        },
                        "type": "bar"
                      }
                    ],
                    "barpolar": [
                      {
                        "marker": {
                          "line": {
                            "color": "#E5ECF6",
                            "width": 0.5
                          },
                          "pattern": {
                            "fillmode": "overlay",
                            "size": 10,
                            "solidity": 0.2
                          }
                        },
                        "type": "barpolar"
                      }
                    ],
                    "carpet": [
                      {
                        "aaxis": {
                          "endlinecolor": "#2a3f5f",
                          "gridcolor": "white",
                          "linecolor": "white",
                          "minorgridcolor": "white",
                          "startlinecolor": "#2a3f5f"
                        },
                        "baxis": {
                          "endlinecolor": "#2a3f5f",
                          "gridcolor": "white",
                          "linecolor": "white",
                          "minorgridcolor": "white",
                          "startlinecolor": "#2a3f5f"
                        },
                        "type": "carpet"
                      }
                    ],
                    "choropleth": [
                      {
                        "colorbar": {
                          "outlinewidth": 0,
                          "ticks": ""
                        },
                        "type": "choropleth"
                      }
                    ],
                    "contour": [
                      {
                        "colorbar": {
                          "outlinewidth": 0,
                          "ticks": ""
                        },
                        "colorscale": [
                          [
                            0,
                            "#0d0887"
                          ],
                          [
                            0.1111111111111111,
                            "#46039f"
                          ],
                          [
                            0.2222222222222222,
                            "#7201a8"
                          ],
                          [
                            0.3333333333333333,
                            "#9c179e"
                          ],
                          [
                            0.4444444444444444,
                            "#bd3786"
                          ],
                          [
                            0.5555555555555556,
                            "#d8576b"
                          ],
                          [
                            0.6666666666666666,
                            "#ed7953"
                          ],
                          [
                            0.7777777777777778,
                            "#fb9f3a"
                          ],
                          [
                            0.8888888888888888,
                            "#fdca26"
                          ],
                          [
                            1,
                            "#f0f921"
                          ]
                        ],
                        "type": "contour"
                      }
                    ],
                    "contourcarpet": [
                      {
                        "colorbar": {
                          "outlinewidth": 0,
                          "ticks": ""
                        },
                        "type": "contourcarpet"
                      }
                    ],
                    "heatmap": [
                      {
                        "colorbar": {
                          "outlinewidth": 0,
                          "ticks": ""
                        },
                        "colorscale": [
                          [
                            0,
                            "#0d0887"
                          ],
                          [
                            0.1111111111111111,
                            "#46039f"
                          ],
                          [
                            0.2222222222222222,
                            "#7201a8"
                          ],
                          [
                            0.3333333333333333,
                            "#9c179e"
                          ],
                          [
                            0.4444444444444444,
                            "#bd3786"
                          ],
                          [
                            0.5555555555555556,
                            "#d8576b"
                          ],
                          [
                            0.6666666666666666,
                            "#ed7953"
                          ],
                          [
                            0.7777777777777778,
                            "#fb9f3a"
                          ],
                          [
                            0.8888888888888888,
                            "#fdca26"
                          ],
                          [
                            1,
                            "#f0f921"
                          ]
                        ],
                        "type": "heatmap"
                      }
                    ],
                    "histogram": [
                      {
                        "marker": {
                          "pattern": {
                            "fillmode": "overlay",
                            "size": 10,
                            "solidity": 0.2
                          }
                        },
                        "type": "histogram"
                      }
                    ],
                    "histogram2d": [
                      {
                        "colorbar": {
                          "outlinewidth": 0,
                          "ticks": ""
                        },
                        "colorscale": [
                          [
                            0,
                            "#0d0887"
                          ],
                          [
                            0.1111111111111111,
                            "#46039f"
                          ],
                          [
                            0.2222222222222222,
                            "#7201a8"
                          ],
                          [
                            0.3333333333333333,
                            "#9c179e"
                          ],
                          [
                            0.4444444444444444,
                            "#bd3786"
                          ],
                          [
                            0.5555555555555556,
                            "#d8576b"
                          ],
                          [
                            0.6666666666666666,
                            "#ed7953"
                          ],
                          [
                            0.7777777777777778,
                            "#fb9f3a"
                          ],
                          [
                            0.8888888888888888,
                            "#fdca26"
                          ],
                          [
                            1,
                            "#f0f921"
                          ]
                        ],
                        "type": "histogram2d"
                      }
                    ],
                    "histogram2dcontour": [
                      {
                        "colorbar": {
                          "outlinewidth": 0,
                          "ticks": ""
                        },
                        "colorscale": [
                          [
                            0,
                            "#0d0887"
                          ],
                          [
                            0.1111111111111111,
                            "#46039f"
                          ],
                          [
                            0.2222222222222222,
                            "#7201a8"
                          ],
                          [
                            0.3333333333333333,
                            "#9c179e"
                          ],
                          [
                            0.4444444444444444,
                            "#bd3786"
                          ],
                          [
                            0.5555555555555556,
                            "#d8576b"
                          ],
                          [
                            0.6666666666666666,
                            "#ed7953"
                          ],
                          [
                            0.7777777777777778,
                            "#fb9f3a"
                          ],
                          [
                            0.8888888888888888,
                            "#fdca26"
                          ],
                          [
                            1,
                            "#f0f921"
                          ]
                        ],
                        "type": "histogram2dcontour"
                      }
                    ],
                    "mesh3d": [
                      {
                        "colorbar": {
                          "outlinewidth": 0,
                          "ticks": ""
                        },
                        "type": "mesh3d"
                      }
                    ],
                    "parcoords": [
                      {
                        "line": {
                          "colorbar": {
                            "outlinewidth": 0,
                            "ticks": ""
                          }
                        },
                        "type": "parcoords"
                      }
                    ],
                    "pie": [
                      {
                        "automargin": true,
                        "type": "pie"
                      }
                    ],
                    "scatter": [
                      {
                        "fillpattern": {
                          "fillmode": "overlay",
                          "size": 10,
                          "solidity": 0.2
                        },
                        "type": "scatter"
                      }
                    ],
                    "scatter3d": [
                      {
                        "line": {
                          "colorbar": {
                            "outlinewidth": 0,
                            "ticks": ""
                          }
                        },
                        "marker": {
                          "colorbar": {
                            "outlinewidth": 0,
                            "ticks": ""
                          }
                        },
                        "type": "scatter3d"
                      }
                    ],
                    "scattercarpet": [
                      {
                        "marker": {
                          "colorbar": {
                            "outlinewidth": 0,
                            "ticks": ""
                          }
                        },
                        "type": "scattercarpet"
                      }
                    ],
                    "scattergeo": [
                      {
                        "marker": {
                          "colorbar": {
                            "outlinewidth": 0,
                            "ticks": ""
                          }
                        },
                        "type": "scattergeo"
                      }
                    ],
                    "scattergl": [
                      {
                        "marker": {
                          "colorbar": {
                            "outlinewidth": 0,
                            "ticks": ""
                          }
                        },
                        "type": "scattergl"
                      }
                    ],
                    "scattermap": [
                      {
                        "marker": {
                          "colorbar": {
                            "outlinewidth": 0,
                            "ticks": ""
                          }
                        },
                        "type": "scattermap"
                      }
                    ],
                    "scattermapbox": [
                      {
                        "marker": {
                          "colorbar": {
                            "outlinewidth": 0,
                            "ticks": ""
                          }
                        },
                        "type": "scattermapbox"
                      }
                    ],
                    "scatterpolar": [
                      {
                        "marker": {
                          "colorbar": {
                            "outlinewidth": 0,
                            "ticks": ""
                          }
                        },
                        "type": "scatterpolar"
                      }
                    ],
                    "scatterpolargl": [
                      {
                        "marker": {
                          "colorbar": {
                            "outlinewidth": 0,
                            "ticks": ""
                          }
                        },
                        "type": "scatterpolargl"
                      }
                    ],
                    "scatterternary": [
                      {
                        "marker": {
                          "colorbar": {
                            "outlinewidth": 0,
                            "ticks": ""
                          }
                        },
                        "type": "scatterternary"
                      }
                    ],
                    "surface": [
                      {
                        "colorbar": {
                          "outlinewidth": 0,
                          "ticks": ""
                        },
                        "colorscale": [
                          [
                            0,
                            "#0d0887"
                          ],
                          [
                            0.1111111111111111,
                            "#46039f"
                          ],
                          [
                            0.2222222222222222,
                            "#7201a8"
                          ],
                          [
                            0.3333333333333333,
                            "#9c179e"
                          ],
                          [
                            0.4444444444444444,
                            "#bd3786"
                          ],
                          [
                            0.5555555555555556,
                            "#d8576b"
                          ],
                          [
                            0.6666666666666666,
                            "#ed7953"
                          ],
                          [
                            0.7777777777777778,
                            "#fb9f3a"
                          ],
                          [
                            0.8888888888888888,
                            "#fdca26"
                          ],
                          [
                            1,
                            "#f0f921"
                          ]
                        ],
                        "type": "surface"
                      }
                    ],
                    "table": [
                      {
                        "cells": {
                          "fill": {
                            "color": "#EBF0F8"
                          },
                          "line": {
                            "color": "white"
                          }
                        },
                        "header": {
                          "fill": {
                            "color": "#C8D4E3"
                          },
                          "line": {
                            "color": "white"
                          }
                        },
                        "type": "table"
                      }
                    ]
                  },
                  "layout": {
                    "annotationdefaults": {
                      "arrowcolor": "#2a3f5f",
                      "arrowhead": 0,
                      "arrowwidth": 1
                    },
                    "autotypenumbers": "strict",
                    "coloraxis": {
                      "colorbar": {
                        "outlinewidth": 0,
                        "ticks": ""
                      }
                    },
                    "colorscale": {
                      "diverging": [
                        [
                          0,
                          "#8e0152"
                        ],
                        [
                          0.1,
                          "#c51b7d"
                        ],
                        [
                          0.2,
                          "#de77ae"
                        ],
                        [
                          0.3,
                          "#f1b6da"
                        ],
                        [
                          0.4,
                          "#fde0ef"
                        ],
                        [
                          0.5,
                          "#f7f7f7"
                        ],
                        [
                          0.6,
                          "#e6f5d0"
                        ],
                        [
                          0.7,
                          "#b8e186"
                        ],
                        [
                          0.8,
                          "#7fbc41"
                        ],
                        [
                          0.9,
                          "#4d9221"
                        ],
                        [
                          1,
                          "#276419"
                        ]
                      ],
                      "sequential": [
                        [
                          0,
                          "#0d0887"
                        ],
                        [
                          0.1111111111111111,
                          "#46039f"
                        ],
                        [
                          0.2222222222222222,
                          "#7201a8"
                        ],
                        [
                          0.3333333333333333,
                          "#9c179e"
                        ],
                        [
                          0.4444444444444444,
                          "#bd3786"
                        ],
                        [
                          0.5555555555555556,
                          "#d8576b"
                        ],
                        [
                          0.6666666666666666,
                          "#ed7953"
                        ],
                        [
                          0.7777777777777778,
                          "#fb9f3a"
                        ],
                        [
                          0.8888888888888888,
                          "#fdca26"
                        ],
                        [
                          1,
                          "#f0f921"
                        ]
                      ],
                      "sequentialminus": [
                        [
                          0,
                          "#0d0887"
                        ],
                        [
                          0.1111111111111111,
                          "#46039f"
                        ],
                        [
                          0.2222222222222222,
                          "#7201a8"
                        ],
                        [
                          0.3333333333333333,
                          "#9c179e"
                        ],
                        [
                          0.4444444444444444,
                          "#bd3786"
                        ],
                        [
                          0.5555555555555556,
                          "#d8576b"
                        ],
                        [
                          0.6666666666666666,
                          "#ed7953"
                        ],
                        [
                          0.7777777777777778,
                          "#fb9f3a"
                        ],
                        [
                          0.8888888888888888,
                          "#fdca26"
                        ],
                        [
                          1,
                          "#f0f921"
                        ]
                      ]
                    },
                    "colorway": [
                      "#636efa",
                      "#EF553B",
                      "#00cc96",
                      "#ab63fa",
                      "#FFA15A",
                      "#19d3f3",
                      "#FF6692",
                      "#B6E880",
                      "#FF97FF",
                      "#FECB52"
                    ],
                    "font": {
                      "color": "#2a3f5f"
                    },
                    "geo": {
                      "bgcolor": "white",
                      "lakecolor": "white",
                      "landcolor": "#E5ECF6",
                      "showlakes": true,
                      "showland": true,
                      "subunitcolor": "white"
                    },
                    "hoverlabel": {
                      "align": "left"
                    },
                    "hovermode": "closest",
                    "mapbox": {
                      "style": "light"
                    },
                    "paper_bgcolor": "white",
                    "plot_bgcolor": "#E5ECF6",
                    "polar": {
                      "angularaxis": {
                        "gridcolor": "white",
                        "linecolor": "white",
                        "ticks": ""
                      },
                      "bgcolor": "#E5ECF6",
                      "radialaxis": {
                        "gridcolor": "white",
                        "linecolor": "white",
                        "ticks": ""
                      }
                    },
                    "scene": {
                      "xaxis": {
                        "backgroundcolor": "#E5ECF6",
                        "gridcolor": "white",
                        "gridwidth": 2,
                        "linecolor": "white",
                        "showbackground": true,
                        "ticks": "",
                        "zerolinecolor": "white"
                      },
                      "yaxis": {
                        "backgroundcolor": "#E5ECF6",
                        "gridcolor": "white",
                        "gridwidth": 2,
                        "linecolor": "white",
                        "showbackground": true,
                        "ticks": "",
                        "zerolinecolor": "white"
                      },
                      "zaxis": {
                        "backgroundcolor": "#E5ECF6",
                        "gridcolor": "white",
                        "gridwidth": 2,
                        "linecolor": "white",
                        "showbackground": true,
                        "ticks": "",
                        "zerolinecolor": "white"
                      }
                    },
                    "shapedefaults": {
                      "line": {
                        "color": "#2a3f5f"
                      }
                    },
                    "ternary": {
                      "aaxis": {
                        "gridcolor": "white",
                        "linecolor": "white",
                        "ticks": ""
                      },
                      "baxis": {
                        "gridcolor": "white",
                        "linecolor": "white",
                        "ticks": ""
                      },
                      "bgcolor": "#E5ECF6",
                      "caxis": {
                        "gridcolor": "white",
                        "linecolor": "white",
                        "ticks": ""
                      }
                    },
                    "title": {
                      "x": 0.05
                    },
                    "xaxis": {
                      "automargin": true,
                      "gridcolor": "white",
                      "linecolor": "white",
                      "ticks": "",
                      "title": {
                        "standoff": 15
                      },
                      "zerolinecolor": "white",
                      "zerolinewidth": 2
                    },
                    "yaxis": {
                      "automargin": true,
                      "gridcolor": "white",
                      "linecolor": "white",
                      "ticks": "",
                      "title": {
                        "standoff": 15
                      },
                      "zerolinecolor": "white",
                      "zerolinewidth": 2
                    }
                  }
                },
                "title": {
                  "font": {
                    "size": 16
                  },
                  "text": "지역별 공구 성공률"
                },
                "width": 800,
                "xaxis": {
                  "anchor": "y",
                  "domain": [
                    0,
                    1
                  ],
                  "title": {
                    "text": "지역"
                  }
                },
                "yaxis": {
                  "anchor": "x",
                  "domain": [
                    0,
                    1
                  ],
                  "title": {
                    "text": "성공률 (%)"
                  }
                }
              }
            }
          },
          "metadata": {},
          "output_type": "display_data"
        },
        {
          "data": {
            "application/vnd.plotly.v1+json": {
              "config": {
                "plotlyServerURL": "https://plot.ly"
              },
              "data": [
                {
                  "hovertemplate": "지역=%{x}<br>실패율 (%)=%{y}<br>color=%{marker.color}<extra></extra>",
                  "legendgroup": "",
                  "marker": {
                    "color": {
                      "bdata": "XXTRRRddQEAJIYQQQgg9QFbYHEi0wjpAbdu2bdu2OUAAAAAAAMAyQHYLvxoT6TFApqWlpaWlMUBVVVVVVVUnQA==",
                      "dtype": "f8"
                    },
                    "coloraxis": "coloraxis",
                    "pattern": {
                      "shape": ""
                    }
                  },
                  "name": "",
                  "orientation": "v",
                  "showlegend": false,
                  "textposition": "auto",
                  "type": "bar",
                  "x": [
                    "광주",
                    "부산",
                    "대전",
                    "대구",
                    "울산",
                    "인천",
                    "서울",
                    "수원"
                  ],
                  "xaxis": "x",
                  "y": {
                    "bdata": "XXTRRRddQEAJIYQQQgg9QFbYHEi0wjpAbdu2bdu2OUAAAAAAAMAyQHYLvxoT6TFApqWlpaWlMUBVVVVVVVUnQA==",
                    "dtype": "f8"
                  },
                  "yaxis": "y"
                }
              ],
              "layout": {
                "barmode": "relative",
                "coloraxis": {
                  "colorbar": {
                    "title": {
                      "text": "color"
                    }
                  },
                  "colorscale": [
                    [
                      0,
                      "rgb(255,245,240)"
                    ],
                    [
                      0.125,
                      "rgb(254,224,210)"
                    ],
                    [
                      0.25,
                      "rgb(252,187,161)"
                    ],
                    [
                      0.375,
                      "rgb(252,146,114)"
                    ],
                    [
                      0.5,
                      "rgb(251,106,74)"
                    ],
                    [
                      0.625,
                      "rgb(239,59,44)"
                    ],
                    [
                      0.75,
                      "rgb(203,24,29)"
                    ],
                    [
                      0.875,
                      "rgb(165,15,21)"
                    ],
                    [
                      1,
                      "rgb(103,0,13)"
                    ]
                  ]
                },
                "height": 500,
                "legend": {
                  "tracegroupgap": 0
                },
                "template": {
                  "data": {
                    "bar": [
                      {
                        "error_x": {
                          "color": "#2a3f5f"
                        },
                        "error_y": {
                          "color": "#2a3f5f"
                        },
                        "marker": {
                          "line": {
                            "color": "#E5ECF6",
                            "width": 0.5
                          },
                          "pattern": {
                            "fillmode": "overlay",
                            "size": 10,
                            "solidity": 0.2
                          }
                        },
                        "type": "bar"
                      }
                    ],
                    "barpolar": [
                      {
                        "marker": {
                          "line": {
                            "color": "#E5ECF6",
                            "width": 0.5
                          },
                          "pattern": {
                            "fillmode": "overlay",
                            "size": 10,
                            "solidity": 0.2
                          }
                        },
                        "type": "barpolar"
                      }
                    ],
                    "carpet": [
                      {
                        "aaxis": {
                          "endlinecolor": "#2a3f5f",
                          "gridcolor": "white",
                          "linecolor": "white",
                          "minorgridcolor": "white",
                          "startlinecolor": "#2a3f5f"
                        },
                        "baxis": {
                          "endlinecolor": "#2a3f5f",
                          "gridcolor": "white",
                          "linecolor": "white",
                          "minorgridcolor": "white",
                          "startlinecolor": "#2a3f5f"
                        },
                        "type": "carpet"
                      }
                    ],
                    "choropleth": [
                      {
                        "colorbar": {
                          "outlinewidth": 0,
                          "ticks": ""
                        },
                        "type": "choropleth"
                      }
                    ],
                    "contour": [
                      {
                        "colorbar": {
                          "outlinewidth": 0,
                          "ticks": ""
                        },
                        "colorscale": [
                          [
                            0,
                            "#0d0887"
                          ],
                          [
                            0.1111111111111111,
                            "#46039f"
                          ],
                          [
                            0.2222222222222222,
                            "#7201a8"
                          ],
                          [
                            0.3333333333333333,
                            "#9c179e"
                          ],
                          [
                            0.4444444444444444,
                            "#bd3786"
                          ],
                          [
                            0.5555555555555556,
                            "#d8576b"
                          ],
                          [
                            0.6666666666666666,
                            "#ed7953"
                          ],
                          [
                            0.7777777777777778,
                            "#fb9f3a"
                          ],
                          [
                            0.8888888888888888,
                            "#fdca26"
                          ],
                          [
                            1,
                            "#f0f921"
                          ]
                        ],
                        "type": "contour"
                      }
                    ],
                    "contourcarpet": [
                      {
                        "colorbar": {
                          "outlinewidth": 0,
                          "ticks": ""
                        },
                        "type": "contourcarpet"
                      }
                    ],
                    "heatmap": [
                      {
                        "colorbar": {
                          "outlinewidth": 0,
                          "ticks": ""
                        },
                        "colorscale": [
                          [
                            0,
                            "#0d0887"
                          ],
                          [
                            0.1111111111111111,
                            "#46039f"
                          ],
                          [
                            0.2222222222222222,
                            "#7201a8"
                          ],
                          [
                            0.3333333333333333,
                            "#9c179e"
                          ],
                          [
                            0.4444444444444444,
                            "#bd3786"
                          ],
                          [
                            0.5555555555555556,
                            "#d8576b"
                          ],
                          [
                            0.6666666666666666,
                            "#ed7953"
                          ],
                          [
                            0.7777777777777778,
                            "#fb9f3a"
                          ],
                          [
                            0.8888888888888888,
                            "#fdca26"
                          ],
                          [
                            1,
                            "#f0f921"
                          ]
                        ],
                        "type": "heatmap"
                      }
                    ],
                    "histogram": [
                      {
                        "marker": {
                          "pattern": {
                            "fillmode": "overlay",
                            "size": 10,
                            "solidity": 0.2
                          }
                        },
                        "type": "histogram"
                      }
                    ],
                    "histogram2d": [
                      {
                        "colorbar": {
                          "outlinewidth": 0,
                          "ticks": ""
                        },
                        "colorscale": [
                          [
                            0,
                            "#0d0887"
                          ],
                          [
                            0.1111111111111111,
                            "#46039f"
                          ],
                          [
                            0.2222222222222222,
                            "#7201a8"
                          ],
                          [
                            0.3333333333333333,
                            "#9c179e"
                          ],
                          [
                            0.4444444444444444,
                            "#bd3786"
                          ],
                          [
                            0.5555555555555556,
                            "#d8576b"
                          ],
                          [
                            0.6666666666666666,
                            "#ed7953"
                          ],
                          [
                            0.7777777777777778,
                            "#fb9f3a"
                          ],
                          [
                            0.8888888888888888,
                            "#fdca26"
                          ],
                          [
                            1,
                            "#f0f921"
                          ]
                        ],
                        "type": "histogram2d"
                      }
                    ],
                    "histogram2dcontour": [
                      {
                        "colorbar": {
                          "outlinewidth": 0,
                          "ticks": ""
                        },
                        "colorscale": [
                          [
                            0,
                            "#0d0887"
                          ],
                          [
                            0.1111111111111111,
                            "#46039f"
                          ],
                          [
                            0.2222222222222222,
                            "#7201a8"
                          ],
                          [
                            0.3333333333333333,
                            "#9c179e"
                          ],
                          [
                            0.4444444444444444,
                            "#bd3786"
                          ],
                          [
                            0.5555555555555556,
                            "#d8576b"
                          ],
                          [
                            0.6666666666666666,
                            "#ed7953"
                          ],
                          [
                            0.7777777777777778,
                            "#fb9f3a"
                          ],
                          [
                            0.8888888888888888,
                            "#fdca26"
                          ],
                          [
                            1,
                            "#f0f921"
                          ]
                        ],
                        "type": "histogram2dcontour"
                      }
                    ],
                    "mesh3d": [
                      {
                        "colorbar": {
                          "outlinewidth": 0,
                          "ticks": ""
                        },
                        "type": "mesh3d"
                      }
                    ],
                    "parcoords": [
                      {
                        "line": {
                          "colorbar": {
                            "outlinewidth": 0,
                            "ticks": ""
                          }
                        },
                        "type": "parcoords"
                      }
                    ],
                    "pie": [
                      {
                        "automargin": true,
                        "type": "pie"
                      }
                    ],
                    "scatter": [
                      {
                        "fillpattern": {
                          "fillmode": "overlay",
                          "size": 10,
                          "solidity": 0.2
                        },
                        "type": "scatter"
                      }
                    ],
                    "scatter3d": [
                      {
                        "line": {
                          "colorbar": {
                            "outlinewidth": 0,
                            "ticks": ""
                          }
                        },
                        "marker": {
                          "colorbar": {
                            "outlinewidth": 0,
                            "ticks": ""
                          }
                        },
                        "type": "scatter3d"
                      }
                    ],
                    "scattercarpet": [
                      {
                        "marker": {
                          "colorbar": {
                            "outlinewidth": 0,
                            "ticks": ""
                          }
                        },
                        "type": "scattercarpet"
                      }
                    ],
                    "scattergeo": [
                      {
                        "marker": {
                          "colorbar": {
                            "outlinewidth": 0,
                            "ticks": ""
                          }
                        },
                        "type": "scattergeo"
                      }
                    ],
                    "scattergl": [
                      {
                        "marker": {
                          "colorbar": {
                            "outlinewidth": 0,
                            "ticks": ""
                          }
                        },
                        "type": "scattergl"
                      }
                    ],
                    "scattermap": [
                      {
                        "marker": {
                          "colorbar": {
                            "outlinewidth": 0,
                            "ticks": ""
                          }
                        },
                        "type": "scattermap"
                      }
                    ],
                    "scattermapbox": [
                      {
                        "marker": {
                          "colorbar": {
                            "outlinewidth": 0,
                            "ticks": ""
                          }
                        },
                        "type": "scattermapbox"
                      }
                    ],
                    "scatterpolar": [
                      {
                        "marker": {
                          "colorbar": {
                            "outlinewidth": 0,
                            "ticks": ""
                          }
                        },
                        "type": "scatterpolar"
                      }
                    ],
                    "scatterpolargl": [
                      {
                        "marker": {
                          "colorbar": {
                            "outlinewidth": 0,
                            "ticks": ""
                          }
                        },
                        "type": "scatterpolargl"
                      }
                    ],
                    "scatterternary": [
                      {
                        "marker": {
                          "colorbar": {
                            "outlinewidth": 0,
                            "ticks": ""
                          }
                        },
                        "type": "scatterternary"
                      }
                    ],
                    "surface": [
                      {
                        "colorbar": {
                          "outlinewidth": 0,
                          "ticks": ""
                        },
                        "colorscale": [
                          [
                            0,
                            "#0d0887"
                          ],
                          [
                            0.1111111111111111,
                            "#46039f"
                          ],
                          [
                            0.2222222222222222,
                            "#7201a8"
                          ],
                          [
                            0.3333333333333333,
                            "#9c179e"
                          ],
                          [
                            0.4444444444444444,
                            "#bd3786"
                          ],
                          [
                            0.5555555555555556,
                            "#d8576b"
                          ],
                          [
                            0.6666666666666666,
                            "#ed7953"
                          ],
                          [
                            0.7777777777777778,
                            "#fb9f3a"
                          ],
                          [
                            0.8888888888888888,
                            "#fdca26"
                          ],
                          [
                            1,
                            "#f0f921"
                          ]
                        ],
                        "type": "surface"
                      }
                    ],
                    "table": [
                      {
                        "cells": {
                          "fill": {
                            "color": "#EBF0F8"
                          },
                          "line": {
                            "color": "white"
                          }
                        },
                        "header": {
                          "fill": {
                            "color": "#C8D4E3"
                          },
                          "line": {
                            "color": "white"
                          }
                        },
                        "type": "table"
                      }
                    ]
                  },
                  "layout": {
                    "annotationdefaults": {
                      "arrowcolor": "#2a3f5f",
                      "arrowhead": 0,
                      "arrowwidth": 1
                    },
                    "autotypenumbers": "strict",
                    "coloraxis": {
                      "colorbar": {
                        "outlinewidth": 0,
                        "ticks": ""
                      }
                    },
                    "colorscale": {
                      "diverging": [
                        [
                          0,
                          "#8e0152"
                        ],
                        [
                          0.1,
                          "#c51b7d"
                        ],
                        [
                          0.2,
                          "#de77ae"
                        ],
                        [
                          0.3,
                          "#f1b6da"
                        ],
                        [
                          0.4,
                          "#fde0ef"
                        ],
                        [
                          0.5,
                          "#f7f7f7"
                        ],
                        [
                          0.6,
                          "#e6f5d0"
                        ],
                        [
                          0.7,
                          "#b8e186"
                        ],
                        [
                          0.8,
                          "#7fbc41"
                        ],
                        [
                          0.9,
                          "#4d9221"
                        ],
                        [
                          1,
                          "#276419"
                        ]
                      ],
                      "sequential": [
                        [
                          0,
                          "#0d0887"
                        ],
                        [
                          0.1111111111111111,
                          "#46039f"
                        ],
                        [
                          0.2222222222222222,
                          "#7201a8"
                        ],
                        [
                          0.3333333333333333,
                          "#9c179e"
                        ],
                        [
                          0.4444444444444444,
                          "#bd3786"
                        ],
                        [
                          0.5555555555555556,
                          "#d8576b"
                        ],
                        [
                          0.6666666666666666,
                          "#ed7953"
                        ],
                        [
                          0.7777777777777778,
                          "#fb9f3a"
                        ],
                        [
                          0.8888888888888888,
                          "#fdca26"
                        ],
                        [
                          1,
                          "#f0f921"
                        ]
                      ],
                      "sequentialminus": [
                        [
                          0,
                          "#0d0887"
                        ],
                        [
                          0.1111111111111111,
                          "#46039f"
                        ],
                        [
                          0.2222222222222222,
                          "#7201a8"
                        ],
                        [
                          0.3333333333333333,
                          "#9c179e"
                        ],
                        [
                          0.4444444444444444,
                          "#bd3786"
                        ],
                        [
                          0.5555555555555556,
                          "#d8576b"
                        ],
                        [
                          0.6666666666666666,
                          "#ed7953"
                        ],
                        [
                          0.7777777777777778,
                          "#fb9f3a"
                        ],
                        [
                          0.8888888888888888,
                          "#fdca26"
                        ],
                        [
                          1,
                          "#f0f921"
                        ]
                      ]
                    },
                    "colorway": [
                      "#636efa",
                      "#EF553B",
                      "#00cc96",
                      "#ab63fa",
                      "#FFA15A",
                      "#19d3f3",
                      "#FF6692",
                      "#B6E880",
                      "#FF97FF",
                      "#FECB52"
                    ],
                    "font": {
                      "color": "#2a3f5f"
                    },
                    "geo": {
                      "bgcolor": "white",
                      "lakecolor": "white",
                      "landcolor": "#E5ECF6",
                      "showlakes": true,
                      "showland": true,
                      "subunitcolor": "white"
                    },
                    "hoverlabel": {
                      "align": "left"
                    },
                    "hovermode": "closest",
                    "mapbox": {
                      "style": "light"
                    },
                    "paper_bgcolor": "white",
                    "plot_bgcolor": "#E5ECF6",
                    "polar": {
                      "angularaxis": {
                        "gridcolor": "white",
                        "linecolor": "white",
                        "ticks": ""
                      },
                      "bgcolor": "#E5ECF6",
                      "radialaxis": {
                        "gridcolor": "white",
                        "linecolor": "white",
                        "ticks": ""
                      }
                    },
                    "scene": {
                      "xaxis": {
                        "backgroundcolor": "#E5ECF6",
                        "gridcolor": "white",
                        "gridwidth": 2,
                        "linecolor": "white",
                        "showbackground": true,
                        "ticks": "",
                        "zerolinecolor": "white"
                      },
                      "yaxis": {
                        "backgroundcolor": "#E5ECF6",
                        "gridcolor": "white",
                        "gridwidth": 2,
                        "linecolor": "white",
                        "showbackground": true,
                        "ticks": "",
                        "zerolinecolor": "white"
                      },
                      "zaxis": {
                        "backgroundcolor": "#E5ECF6",
                        "gridcolor": "white",
                        "gridwidth": 2,
                        "linecolor": "white",
                        "showbackground": true,
                        "ticks": "",
                        "zerolinecolor": "white"
                      }
                    },
                    "shapedefaults": {
                      "line": {
                        "color": "#2a3f5f"
                      }
                    },
                    "ternary": {
                      "aaxis": {
                        "gridcolor": "white",
                        "linecolor": "white",
                        "ticks": ""
                      },
                      "baxis": {
                        "gridcolor": "white",
                        "linecolor": "white",
                        "ticks": ""
                      },
                      "bgcolor": "#E5ECF6",
                      "caxis": {
                        "gridcolor": "white",
                        "linecolor": "white",
                        "ticks": ""
                      }
                    },
                    "title": {
                      "x": 0.05
                    },
                    "xaxis": {
                      "automargin": true,
                      "gridcolor": "white",
                      "linecolor": "white",
                      "ticks": "",
                      "title": {
                        "standoff": 15
                      },
                      "zerolinecolor": "white",
                      "zerolinewidth": 2
                    },
                    "yaxis": {
                      "automargin": true,
                      "gridcolor": "white",
                      "linecolor": "white",
                      "ticks": "",
                      "title": {
                        "standoff": 15
                      },
                      "zerolinecolor": "white",
                      "zerolinewidth": 2
                    }
                  }
                },
                "title": {
                  "font": {
                    "size": 16
                  },
                  "text": "지역별 공구 실패율 - 우선 개선 대상"
                },
                "width": 800,
                "xaxis": {
                  "anchor": "y",
                  "domain": [
                    0,
                    1
                  ],
                  "title": {
                    "text": "지역"
                  }
                },
                "yaxis": {
                  "anchor": "x",
                  "domain": [
                    0,
                    1
                  ],
                  "title": {
                    "text": "실패율 (%)"
                  }
                }
              }
            }
          },
          "metadata": {},
          "output_type": "display_data"
        }
      ],
      "source": [
        "# 공구 상태 분포 파이차트\n",
        "fig_status = px.pie(\n",
        "    values=status_summary.values,\n",
        "    names=status_summary.index,\n",
        "    title=\"전체 공구 상태 분포\",\n",
        "    color_discrete_sequence=px.colors.qualitative.Set3\n",
        ")\n",
        "fig_status.update_traces(textposition='inside', textinfo='percent+label')\n",
        "fig_status.update_layout(title_font_size=16, width=600, height=500)\n",
        "fig_status.show()\n",
        "\n",
        "# 지역별 성공률 바차트\n",
        "fig_location_success = px.bar(\n",
        "    x=location_success_rate.index,\n",
        "    y=location_success_rate.values,\n",
        "    title=\"지역별 공구 성공률\",\n",
        "    labels={'x': '지역', 'y': '성공률 (%)'},\n",
        "    color=location_success_rate.values,\n",
        "    color_continuous_scale='Greens'\n",
        ")\n",
        "fig_location_success.update_layout(title_font_size=16, width=800, height=500)\n",
        "fig_location_success.show()\n",
        "\n",
        "# 지역별 실패율 바차트 (우선 개선 대상)\n",
        "fig_location_failure = px.bar(\n",
        "    x=location_failure_rate.index,\n",
        "    y=location_failure_rate.values,\n",
        "    title=\"지역별 공구 실패율 - 우선 개선 대상\",\n",
        "    labels={'x': '지역', 'y': '실패율 (%)'},\n",
        "    color=location_failure_rate.values,\n",
        "    color_continuous_scale='Reds'\n",
        ")\n",
        "fig_location_failure.update_layout(title_font_size=16, width=800, height=500)\n",
        "fig_location_failure.show()"
      ]
    },
    {
      "cell_type": "markdown",
      "metadata": {
        "id": "gxGzPq-e3dBW"
      },
      "source": [
        "## 최근 거래 추이 분석\n"
      ]
    },
    {
      "cell_type": "markdown",
      "metadata": {
        "id": "XBC6XiQT3izp"
      },
      "source": [
        "### 월별 거래 흐름 분석\n"
      ]
    },
    {
      "cell_type": "code",
      "execution_count": 9,
      "metadata": {
        "colab": {
          "base_uri": "https://localhost:8080/"
        },
        "id": "FivsTMoK3g6t",
        "outputId": "9c593655-bf33-45d9-abcb-dbbfb5542874"
      },
      "outputs": [
        {
          "name": "stdout",
          "output_type": "stream",
          "text": [
            "월별 공구 개설 수:\n",
            "- 2024-11: 12개\n",
            "- 2024-12: 89개\n",
            "- 2025-01: 64개\n",
            "- 2025-02: 86개\n",
            "- 2025-03: 78개\n",
            "- 2025-04: 98개\n",
            "- 2025-05: 73개\n",
            "\n",
            "월별 공구 완료 수:\n",
            "- 2024-11: 2개\n",
            "- 2024-12: 28개\n",
            "- 2025-01: 24개\n",
            "- 2025-02: 25개\n",
            "- 2025-03: 11개\n",
            "- 2025-04: 21개\n",
            "- 2025-05: 20개\n",
            "\n",
            "월별 신규 리더 수:\n",
            "- 2024-11: 15명\n",
            "- 2024-12: 262명\n",
            "- 2025-01: 259명\n",
            "- 2025-02: 239명\n",
            "- 2025-03: 247명\n",
            "- 2025-04: 265명\n",
            "- 2025-05: 220명\n",
            "\n",
            "월별 전체 참가자 수:\n",
            "- 2024-11: 34명\n",
            "- 2024-12: 521명\n",
            "- 2025-01: 503명\n",
            "- 2025-02: 482명\n",
            "- 2025-03: 493명\n",
            "- 2025-04: 523명\n",
            "- 2025-05: 444명\n"
          ]
        }
      ],
      "source": [
        "# 월별 공구 개설 수\n",
        "monthly_creation = group_boards.groupby('created_month').size()\n",
        "print(f\"월별 공구 개설 수:\")\n",
        "for month, count in monthly_creation.items():\n",
        "  print(f\"- {month}: {count:,}개\")\n",
        "\n",
        "# 월별 공구 완료 수\n",
        "monthly_completion = group_boards[group_boards['status'] == '공구성공'].groupby('created_month').size()\n",
        "print(f\"\\n월별 공구 완료 수:\")\n",
        "for month, count in monthly_completion.items():\n",
        "  print(f\"- {month}: {count:,}개\")\n",
        "\n",
        "# 월별 신규 리더 수\n",
        "monthly_new_leaders = participants[participants['role'] == '리더'].groupby('joined_month').size()\n",
        "print(f\"\\n월별 신규 리더 수:\")\n",
        "for month, count in monthly_new_leaders.items():\n",
        "  print(f\"- {month}: {count:,}명\")\n",
        "\n",
        "# 월별 전체 참가자 수\n",
        "monthly_participants = participants.groupby('joined_month').size()\n",
        "print(f\"\\n월별 전체 참가자 수:\")\n",
        "for month, count in monthly_participants.items():\n",
        "  print(f\"- {month}: {count:,}명\")"
      ]
    },
    {
      "cell_type": "markdown",
      "metadata": {
        "id": "oXxWFSYf3pJ1"
      },
      "source": [
        "### 사용자당 평균 공구 참여 수\n"
      ]
    },
    {
      "cell_type": "code",
      "execution_count": 10,
      "metadata": {
        "colab": {
          "base_uri": "https://localhost:8080/"
        },
        "id": "kuv6J6E33rin",
        "outputId": "0a29de5f-84b7-4242-9012-944aa6929ef1"
      },
      "outputs": [
        {
          "name": "stdout",
          "output_type": "stream",
          "text": [
            "\n",
            "참가자 참여 현황:\n",
            "- 사용자당 평균 공구 참여 수: 10.00회\n",
            "- 최대 참여 횟수: 22회\n",
            "- 1회만 참여한 사용자: 0명\n",
            "- 다회 참여 사용자: 300명\n"
          ]
        }
      ],
      "source": [
        "# 사용자별 참여 횟수 계산\n",
        "user_participation = participants.groupby('user_id').size()\n",
        "avg_participation_per_user = user_participation.mean()\n",
        "\n",
        "print(f\"\\n참가자 참여 현황:\")\n",
        "print(f\"- 사용자당 평균 공구 참여 수: {avg_participation_per_user:.2f}회\")\n",
        "print(f\"- 최대 참여 횟수: {user_participation.max()}회\")\n",
        "print(f\"- 1회만 참여한 사용자: {(user_participation == 1).sum():,}명\")\n",
        "print(f\"- 다회 참여 사용자: {(user_participation > 1).sum():,}명\")"
      ]
    },
    {
      "cell_type": "markdown",
      "metadata": {
        "id": "fsoPFycJ3uTA"
      },
      "source": [
        "### 최근 3주간 공구 참여율 분석\n"
      ]
    },
    {
      "cell_type": "code",
      "execution_count": 11,
      "metadata": {
        "colab": {
          "base_uri": "https://localhost:8080/"
        },
        "id": "YD4Eoi0p3w_S",
        "outputId": "53dee78f-b75e-4c5c-d303-715c313feb4b"
      },
      "outputs": [
        {
          "name": "stdout",
          "output_type": "stream",
          "text": [
            "\n",
            "최근 3주간 활동 분석 (2025-05-08 ~ 2025-05-29):\n",
            "- 최근 3주 신규 참가자: 347명\n",
            "- 최근 3주 신규 공구: 58개\n",
            "- 일평균 참가자: 10.0명/일\n",
            "- 일평균 공구 생성: 2.0개/일\n"
          ]
        }
      ],
      "source": [
        "# 최근 3주 기준일 계산\n",
        "latest_date = participants['joined_at'].max()\n",
        "three_weeks_ago = latest_date - timedelta(weeks=3)\n",
        "\n",
        "print(f\"\\n최근 3주간 활동 분석 ({three_weeks_ago.strftime('%Y-%m-%d')} ~ {latest_date.strftime('%Y-%m-%d')}):\")\n",
        "\n",
        "# 최근 3주간 데이터 필터링\n",
        "recent_participants = participants[participants['joined_at'] >= three_weeks_ago]\n",
        "recent_groups = group_boards[group_boards['created_at'] >= three_weeks_ago]\n",
        "\n",
        "print(f\"- 최근 3주 신규 참가자: {len(recent_participants):,}명\")\n",
        "print(f\"- 최근 3주 신규 공구: {len(recent_groups):,}개\")\n",
        "print(f\"- 일평균 참가자: {len(recent_participants) / 21:.1f}명/일\")\n",
        "print(f\"- 일평균 공구 생성: {len(recent_groups) / 21:.1f}개/일\")"
      ]
    },
    {
      "cell_type": "markdown",
      "metadata": {
        "id": "5vLStTPe310L"
      },
      "source": [
        "### 월별 거래 추이 시각화\n"
      ]
    },
    {
      "cell_type": "code",
      "execution_count": 12,
      "metadata": {
        "colab": {
          "base_uri": "https://localhost:8080/",
          "height": 817
        },
        "id": "-r8dFDbq35Og",
        "outputId": "9aad1811-9622-4cf8-8e58-e1093cedf1b0"
      },
      "outputs": [
        {
          "data": {
            "application/vnd.plotly.v1+json": {
              "config": {
                "plotlyServerURL": "https://plot.ly"
              },
              "data": [
                {
                  "line": {
                    "color": "blue",
                    "width": 3
                  },
                  "mode": "lines+markers",
                  "name": "개설수",
                  "type": "scatter",
                  "x": [
                    "2024-11",
                    "2024-12",
                    "2025-01",
                    "2025-02",
                    "2025-03",
                    "2025-04",
                    "2025-05"
                  ],
                  "xaxis": "x",
                  "y": {
                    "bdata": "DFlAVk5iSQ==",
                    "dtype": "i1"
                  },
                  "yaxis": "y"
                },
                {
                  "line": {
                    "color": "green",
                    "width": 3
                  },
                  "mode": "lines+markers",
                  "name": "완료수",
                  "type": "scatter",
                  "x": [
                    "2024-11",
                    "2024-12",
                    "2025-01",
                    "2025-02",
                    "2025-03",
                    "2025-04",
                    "2025-05"
                  ],
                  "xaxis": "x2",
                  "y": {
                    "bdata": "AhwYGQsVFA==",
                    "dtype": "i1"
                  },
                  "yaxis": "y2"
                },
                {
                  "marker": {
                    "color": "orange"
                  },
                  "name": "신규리더",
                  "type": "bar",
                  "x": [
                    "2024-11",
                    "2024-12",
                    "2025-01",
                    "2025-02",
                    "2025-03",
                    "2025-04",
                    "2025-05"
                  ],
                  "xaxis": "x3",
                  "y": {
                    "bdata": "DwAGAQMB7wD3AAkB3AA=",
                    "dtype": "i2"
                  },
                  "yaxis": "y3"
                },
                {
                  "marker": {
                    "color": "purple"
                  },
                  "name": "참가자수",
                  "type": "bar",
                  "x": [
                    "2024-11",
                    "2024-12",
                    "2025-01",
                    "2025-02",
                    "2025-03",
                    "2025-04",
                    "2025-05"
                  ],
                  "xaxis": "x4",
                  "y": {
                    "bdata": "IgAJAvcB4gHtAQsCvAE=",
                    "dtype": "i2"
                  },
                  "yaxis": "y4"
                }
              ],
              "layout": {
                "annotations": [
                  {
                    "font": {
                      "size": 16
                    },
                    "showarrow": false,
                    "text": "월별 공구 개설 수",
                    "x": 0.225,
                    "xanchor": "center",
                    "xref": "paper",
                    "y": 1,
                    "yanchor": "bottom",
                    "yref": "paper"
                  },
                  {
                    "font": {
                      "size": 16
                    },
                    "showarrow": false,
                    "text": "월별 공구 완료 수",
                    "x": 0.775,
                    "xanchor": "center",
                    "xref": "paper",
                    "y": 1,
                    "yanchor": "bottom",
                    "yref": "paper"
                  },
                  {
                    "font": {
                      "size": 16
                    },
                    "showarrow": false,
                    "text": "월별 신규 리더 수",
                    "x": 0.225,
                    "xanchor": "center",
                    "xref": "paper",
                    "y": 0.44,
                    "yanchor": "bottom",
                    "yref": "paper"
                  },
                  {
                    "font": {
                      "size": 16
                    },
                    "showarrow": false,
                    "text": "월별 참가자 수",
                    "x": 0.775,
                    "xanchor": "center",
                    "xref": "paper",
                    "y": 0.44,
                    "yanchor": "bottom",
                    "yref": "paper"
                  }
                ],
                "height": 800,
                "showlegend": false,
                "template": {
                  "data": {
                    "bar": [
                      {
                        "error_x": {
                          "color": "#2a3f5f"
                        },
                        "error_y": {
                          "color": "#2a3f5f"
                        },
                        "marker": {
                          "line": {
                            "color": "#E5ECF6",
                            "width": 0.5
                          },
                          "pattern": {
                            "fillmode": "overlay",
                            "size": 10,
                            "solidity": 0.2
                          }
                        },
                        "type": "bar"
                      }
                    ],
                    "barpolar": [
                      {
                        "marker": {
                          "line": {
                            "color": "#E5ECF6",
                            "width": 0.5
                          },
                          "pattern": {
                            "fillmode": "overlay",
                            "size": 10,
                            "solidity": 0.2
                          }
                        },
                        "type": "barpolar"
                      }
                    ],
                    "carpet": [
                      {
                        "aaxis": {
                          "endlinecolor": "#2a3f5f",
                          "gridcolor": "white",
                          "linecolor": "white",
                          "minorgridcolor": "white",
                          "startlinecolor": "#2a3f5f"
                        },
                        "baxis": {
                          "endlinecolor": "#2a3f5f",
                          "gridcolor": "white",
                          "linecolor": "white",
                          "minorgridcolor": "white",
                          "startlinecolor": "#2a3f5f"
                        },
                        "type": "carpet"
                      }
                    ],
                    "choropleth": [
                      {
                        "colorbar": {
                          "outlinewidth": 0,
                          "ticks": ""
                        },
                        "type": "choropleth"
                      }
                    ],
                    "contour": [
                      {
                        "colorbar": {
                          "outlinewidth": 0,
                          "ticks": ""
                        },
                        "colorscale": [
                          [
                            0,
                            "#0d0887"
                          ],
                          [
                            0.1111111111111111,
                            "#46039f"
                          ],
                          [
                            0.2222222222222222,
                            "#7201a8"
                          ],
                          [
                            0.3333333333333333,
                            "#9c179e"
                          ],
                          [
                            0.4444444444444444,
                            "#bd3786"
                          ],
                          [
                            0.5555555555555556,
                            "#d8576b"
                          ],
                          [
                            0.6666666666666666,
                            "#ed7953"
                          ],
                          [
                            0.7777777777777778,
                            "#fb9f3a"
                          ],
                          [
                            0.8888888888888888,
                            "#fdca26"
                          ],
                          [
                            1,
                            "#f0f921"
                          ]
                        ],
                        "type": "contour"
                      }
                    ],
                    "contourcarpet": [
                      {
                        "colorbar": {
                          "outlinewidth": 0,
                          "ticks": ""
                        },
                        "type": "contourcarpet"
                      }
                    ],
                    "heatmap": [
                      {
                        "colorbar": {
                          "outlinewidth": 0,
                          "ticks": ""
                        },
                        "colorscale": [
                          [
                            0,
                            "#0d0887"
                          ],
                          [
                            0.1111111111111111,
                            "#46039f"
                          ],
                          [
                            0.2222222222222222,
                            "#7201a8"
                          ],
                          [
                            0.3333333333333333,
                            "#9c179e"
                          ],
                          [
                            0.4444444444444444,
                            "#bd3786"
                          ],
                          [
                            0.5555555555555556,
                            "#d8576b"
                          ],
                          [
                            0.6666666666666666,
                            "#ed7953"
                          ],
                          [
                            0.7777777777777778,
                            "#fb9f3a"
                          ],
                          [
                            0.8888888888888888,
                            "#fdca26"
                          ],
                          [
                            1,
                            "#f0f921"
                          ]
                        ],
                        "type": "heatmap"
                      }
                    ],
                    "histogram": [
                      {
                        "marker": {
                          "pattern": {
                            "fillmode": "overlay",
                            "size": 10,
                            "solidity": 0.2
                          }
                        },
                        "type": "histogram"
                      }
                    ],
                    "histogram2d": [
                      {
                        "colorbar": {
                          "outlinewidth": 0,
                          "ticks": ""
                        },
                        "colorscale": [
                          [
                            0,
                            "#0d0887"
                          ],
                          [
                            0.1111111111111111,
                            "#46039f"
                          ],
                          [
                            0.2222222222222222,
                            "#7201a8"
                          ],
                          [
                            0.3333333333333333,
                            "#9c179e"
                          ],
                          [
                            0.4444444444444444,
                            "#bd3786"
                          ],
                          [
                            0.5555555555555556,
                            "#d8576b"
                          ],
                          [
                            0.6666666666666666,
                            "#ed7953"
                          ],
                          [
                            0.7777777777777778,
                            "#fb9f3a"
                          ],
                          [
                            0.8888888888888888,
                            "#fdca26"
                          ],
                          [
                            1,
                            "#f0f921"
                          ]
                        ],
                        "type": "histogram2d"
                      }
                    ],
                    "histogram2dcontour": [
                      {
                        "colorbar": {
                          "outlinewidth": 0,
                          "ticks": ""
                        },
                        "colorscale": [
                          [
                            0,
                            "#0d0887"
                          ],
                          [
                            0.1111111111111111,
                            "#46039f"
                          ],
                          [
                            0.2222222222222222,
                            "#7201a8"
                          ],
                          [
                            0.3333333333333333,
                            "#9c179e"
                          ],
                          [
                            0.4444444444444444,
                            "#bd3786"
                          ],
                          [
                            0.5555555555555556,
                            "#d8576b"
                          ],
                          [
                            0.6666666666666666,
                            "#ed7953"
                          ],
                          [
                            0.7777777777777778,
                            "#fb9f3a"
                          ],
                          [
                            0.8888888888888888,
                            "#fdca26"
                          ],
                          [
                            1,
                            "#f0f921"
                          ]
                        ],
                        "type": "histogram2dcontour"
                      }
                    ],
                    "mesh3d": [
                      {
                        "colorbar": {
                          "outlinewidth": 0,
                          "ticks": ""
                        },
                        "type": "mesh3d"
                      }
                    ],
                    "parcoords": [
                      {
                        "line": {
                          "colorbar": {
                            "outlinewidth": 0,
                            "ticks": ""
                          }
                        },
                        "type": "parcoords"
                      }
                    ],
                    "pie": [
                      {
                        "automargin": true,
                        "type": "pie"
                      }
                    ],
                    "scatter": [
                      {
                        "fillpattern": {
                          "fillmode": "overlay",
                          "size": 10,
                          "solidity": 0.2
                        },
                        "type": "scatter"
                      }
                    ],
                    "scatter3d": [
                      {
                        "line": {
                          "colorbar": {
                            "outlinewidth": 0,
                            "ticks": ""
                          }
                        },
                        "marker": {
                          "colorbar": {
                            "outlinewidth": 0,
                            "ticks": ""
                          }
                        },
                        "type": "scatter3d"
                      }
                    ],
                    "scattercarpet": [
                      {
                        "marker": {
                          "colorbar": {
                            "outlinewidth": 0,
                            "ticks": ""
                          }
                        },
                        "type": "scattercarpet"
                      }
                    ],
                    "scattergeo": [
                      {
                        "marker": {
                          "colorbar": {
                            "outlinewidth": 0,
                            "ticks": ""
                          }
                        },
                        "type": "scattergeo"
                      }
                    ],
                    "scattergl": [
                      {
                        "marker": {
                          "colorbar": {
                            "outlinewidth": 0,
                            "ticks": ""
                          }
                        },
                        "type": "scattergl"
                      }
                    ],
                    "scattermap": [
                      {
                        "marker": {
                          "colorbar": {
                            "outlinewidth": 0,
                            "ticks": ""
                          }
                        },
                        "type": "scattermap"
                      }
                    ],
                    "scattermapbox": [
                      {
                        "marker": {
                          "colorbar": {
                            "outlinewidth": 0,
                            "ticks": ""
                          }
                        },
                        "type": "scattermapbox"
                      }
                    ],
                    "scatterpolar": [
                      {
                        "marker": {
                          "colorbar": {
                            "outlinewidth": 0,
                            "ticks": ""
                          }
                        },
                        "type": "scatterpolar"
                      }
                    ],
                    "scatterpolargl": [
                      {
                        "marker": {
                          "colorbar": {
                            "outlinewidth": 0,
                            "ticks": ""
                          }
                        },
                        "type": "scatterpolargl"
                      }
                    ],
                    "scatterternary": [
                      {
                        "marker": {
                          "colorbar": {
                            "outlinewidth": 0,
                            "ticks": ""
                          }
                        },
                        "type": "scatterternary"
                      }
                    ],
                    "surface": [
                      {
                        "colorbar": {
                          "outlinewidth": 0,
                          "ticks": ""
                        },
                        "colorscale": [
                          [
                            0,
                            "#0d0887"
                          ],
                          [
                            0.1111111111111111,
                            "#46039f"
                          ],
                          [
                            0.2222222222222222,
                            "#7201a8"
                          ],
                          [
                            0.3333333333333333,
                            "#9c179e"
                          ],
                          [
                            0.4444444444444444,
                            "#bd3786"
                          ],
                          [
                            0.5555555555555556,
                            "#d8576b"
                          ],
                          [
                            0.6666666666666666,
                            "#ed7953"
                          ],
                          [
                            0.7777777777777778,
                            "#fb9f3a"
                          ],
                          [
                            0.8888888888888888,
                            "#fdca26"
                          ],
                          [
                            1,
                            "#f0f921"
                          ]
                        ],
                        "type": "surface"
                      }
                    ],
                    "table": [
                      {
                        "cells": {
                          "fill": {
                            "color": "#EBF0F8"
                          },
                          "line": {
                            "color": "white"
                          }
                        },
                        "header": {
                          "fill": {
                            "color": "#C8D4E3"
                          },
                          "line": {
                            "color": "white"
                          }
                        },
                        "type": "table"
                      }
                    ]
                  },
                  "layout": {
                    "annotationdefaults": {
                      "arrowcolor": "#2a3f5f",
                      "arrowhead": 0,
                      "arrowwidth": 1
                    },
                    "autotypenumbers": "strict",
                    "coloraxis": {
                      "colorbar": {
                        "outlinewidth": 0,
                        "ticks": ""
                      }
                    },
                    "colorscale": {
                      "diverging": [
                        [
                          0,
                          "#8e0152"
                        ],
                        [
                          0.1,
                          "#c51b7d"
                        ],
                        [
                          0.2,
                          "#de77ae"
                        ],
                        [
                          0.3,
                          "#f1b6da"
                        ],
                        [
                          0.4,
                          "#fde0ef"
                        ],
                        [
                          0.5,
                          "#f7f7f7"
                        ],
                        [
                          0.6,
                          "#e6f5d0"
                        ],
                        [
                          0.7,
                          "#b8e186"
                        ],
                        [
                          0.8,
                          "#7fbc41"
                        ],
                        [
                          0.9,
                          "#4d9221"
                        ],
                        [
                          1,
                          "#276419"
                        ]
                      ],
                      "sequential": [
                        [
                          0,
                          "#0d0887"
                        ],
                        [
                          0.1111111111111111,
                          "#46039f"
                        ],
                        [
                          0.2222222222222222,
                          "#7201a8"
                        ],
                        [
                          0.3333333333333333,
                          "#9c179e"
                        ],
                        [
                          0.4444444444444444,
                          "#bd3786"
                        ],
                        [
                          0.5555555555555556,
                          "#d8576b"
                        ],
                        [
                          0.6666666666666666,
                          "#ed7953"
                        ],
                        [
                          0.7777777777777778,
                          "#fb9f3a"
                        ],
                        [
                          0.8888888888888888,
                          "#fdca26"
                        ],
                        [
                          1,
                          "#f0f921"
                        ]
                      ],
                      "sequentialminus": [
                        [
                          0,
                          "#0d0887"
                        ],
                        [
                          0.1111111111111111,
                          "#46039f"
                        ],
                        [
                          0.2222222222222222,
                          "#7201a8"
                        ],
                        [
                          0.3333333333333333,
                          "#9c179e"
                        ],
                        [
                          0.4444444444444444,
                          "#bd3786"
                        ],
                        [
                          0.5555555555555556,
                          "#d8576b"
                        ],
                        [
                          0.6666666666666666,
                          "#ed7953"
                        ],
                        [
                          0.7777777777777778,
                          "#fb9f3a"
                        ],
                        [
                          0.8888888888888888,
                          "#fdca26"
                        ],
                        [
                          1,
                          "#f0f921"
                        ]
                      ]
                    },
                    "colorway": [
                      "#636efa",
                      "#EF553B",
                      "#00cc96",
                      "#ab63fa",
                      "#FFA15A",
                      "#19d3f3",
                      "#FF6692",
                      "#B6E880",
                      "#FF97FF",
                      "#FECB52"
                    ],
                    "font": {
                      "color": "#2a3f5f"
                    },
                    "geo": {
                      "bgcolor": "white",
                      "lakecolor": "white",
                      "landcolor": "#E5ECF6",
                      "showlakes": true,
                      "showland": true,
                      "subunitcolor": "white"
                    },
                    "hoverlabel": {
                      "align": "left"
                    },
                    "hovermode": "closest",
                    "mapbox": {
                      "style": "light"
                    },
                    "paper_bgcolor": "white",
                    "plot_bgcolor": "#E5ECF6",
                    "polar": {
                      "angularaxis": {
                        "gridcolor": "white",
                        "linecolor": "white",
                        "ticks": ""
                      },
                      "bgcolor": "#E5ECF6",
                      "radialaxis": {
                        "gridcolor": "white",
                        "linecolor": "white",
                        "ticks": ""
                      }
                    },
                    "scene": {
                      "xaxis": {
                        "backgroundcolor": "#E5ECF6",
                        "gridcolor": "white",
                        "gridwidth": 2,
                        "linecolor": "white",
                        "showbackground": true,
                        "ticks": "",
                        "zerolinecolor": "white"
                      },
                      "yaxis": {
                        "backgroundcolor": "#E5ECF6",
                        "gridcolor": "white",
                        "gridwidth": 2,
                        "linecolor": "white",
                        "showbackground": true,
                        "ticks": "",
                        "zerolinecolor": "white"
                      },
                      "zaxis": {
                        "backgroundcolor": "#E5ECF6",
                        "gridcolor": "white",
                        "gridwidth": 2,
                        "linecolor": "white",
                        "showbackground": true,
                        "ticks": "",
                        "zerolinecolor": "white"
                      }
                    },
                    "shapedefaults": {
                      "line": {
                        "color": "#2a3f5f"
                      }
                    },
                    "ternary": {
                      "aaxis": {
                        "gridcolor": "white",
                        "linecolor": "white",
                        "ticks": ""
                      },
                      "baxis": {
                        "gridcolor": "white",
                        "linecolor": "white",
                        "ticks": ""
                      },
                      "bgcolor": "#E5ECF6",
                      "caxis": {
                        "gridcolor": "white",
                        "linecolor": "white",
                        "ticks": ""
                      }
                    },
                    "title": {
                      "x": 0.05
                    },
                    "xaxis": {
                      "automargin": true,
                      "gridcolor": "white",
                      "linecolor": "white",
                      "ticks": "",
                      "title": {
                        "standoff": 15
                      },
                      "zerolinecolor": "white",
                      "zerolinewidth": 2
                    },
                    "yaxis": {
                      "automargin": true,
                      "gridcolor": "white",
                      "linecolor": "white",
                      "ticks": "",
                      "title": {
                        "standoff": 15
                      },
                      "zerolinecolor": "white",
                      "zerolinewidth": 2
                    }
                  }
                },
                "title": {
                  "font": {
                    "size": 18
                  },
                  "text": "월별 거래 흐름 분석"
                },
                "width": 1200,
                "xaxis": {
                  "anchor": "y",
                  "domain": [
                    0,
                    0.45
                  ]
                },
                "xaxis2": {
                  "anchor": "y2",
                  "domain": [
                    0.55,
                    1
                  ]
                },
                "xaxis3": {
                  "anchor": "y3",
                  "domain": [
                    0,
                    0.45
                  ]
                },
                "xaxis4": {
                  "anchor": "y4",
                  "domain": [
                    0.55,
                    1
                  ]
                },
                "yaxis": {
                  "anchor": "x",
                  "domain": [
                    0.56,
                    1
                  ]
                },
                "yaxis2": {
                  "anchor": "x2",
                  "domain": [
                    0.56,
                    1
                  ]
                },
                "yaxis3": {
                  "anchor": "x3",
                  "domain": [
                    0,
                    0.44
                  ]
                },
                "yaxis4": {
                  "anchor": "x4",
                  "domain": [
                    0,
                    0.44
                  ]
                }
              }
            }
          },
          "metadata": {},
          "output_type": "display_data"
        }
      ],
      "source": [
        "# 월별 지표 종합 차트\n",
        "fig_monthly = make_subplots(\n",
        "    rows=2, cols=2,\n",
        "    subplot_titles=['월별 공구 개설 수', '월별 공구 완료 수', '월별 신규 리더 수', '월별 참가자 수'],\n",
        "    vertical_spacing=0.12\n",
        ")\n",
        "\n",
        "# 월별 공구 개설 수\n",
        "fig_monthly.add_trace(\n",
        "    go.Scatter(\n",
        "        x=monthly_creation.index.astype(str),\n",
        "        y=monthly_creation.values,\n",
        "        mode='lines+markers',\n",
        "        name=\"개설수\",\n",
        "        line=dict(color='blue', width=3)\n",
        "    ),\n",
        "    row=1, col=1\n",
        ")\n",
        "\n",
        "# 월별 공구 완료 수\n",
        "fig_monthly.add_trace(\n",
        "    go.Scatter(\n",
        "        x=monthly_completion.index.astype(str),\n",
        "        y=monthly_completion.values,\n",
        "        mode='lines+markers',\n",
        "        name=\"완료수\",\n",
        "        line=dict(color='green', width=3)\n",
        "    ),\n",
        "    row=1, col=2\n",
        ")\n",
        "\n",
        "# 월별 신규 리더 수\n",
        "fig_monthly.add_trace(\n",
        "    go.Bar(\n",
        "        x=monthly_new_leaders.index.astype(str),\n",
        "        y=monthly_new_leaders.values,\n",
        "        name=\"신규리더\",\n",
        "        marker_color='orange'\n",
        "    ),\n",
        "    row=2, col=1\n",
        ")\n",
        "\n",
        "# 월별 참가자 수\n",
        "fig_monthly.add_trace(\n",
        "    go.Bar(\n",
        "        x=monthly_participants.index.astype(str),\n",
        "        y=monthly_participants.values,\n",
        "        name=\"참가자수\",\n",
        "        marker_color='purple'\n",
        "    ),\n",
        "    row=2, col=2\n",
        ")\n",
        "\n",
        "fig_monthly.update_layout(\n",
        "    title=\"월별 거래 흐름 분석\",\n",
        "    title_font_size=18,\n",
        "    height=800,\n",
        "    width=1200,\n",
        "    showlegend=False\n",
        ")\n",
        "fig_monthly.show()"
      ]
    },
    {
      "cell_type": "markdown",
      "metadata": {
        "id": "jMpmLldi4E6B"
      },
      "source": [
        "### 거래 증가 시기 파악\n"
      ]
    },
    {
      "cell_type": "code",
      "execution_count": 13,
      "metadata": {
        "colab": {
          "base_uri": "https://localhost:8080/"
        },
        "id": "miD5PZvo4IuW",
        "outputId": "75ac72a1-5433-420a-975c-e6c3c120d001"
      },
      "outputs": [
        {
          "name": "stdout",
          "output_type": "stream",
          "text": [
            "\n",
            "거래 증가 시기 분석:\n",
            "월별 활동 증가율:\n",
            "- 2024-12: +1000.0% 급성장\n",
            "- 2025-01: -7.0% 감소\n",
            "- 2025-02: +0.1% 성장\n",
            "- 2025-03: +0.5% 성장\n",
            "- 2025-04: +8.0% 성장\n",
            "- 2025-05: -10.0% 감소\n",
            "\n",
            "거래량 피크 시즌 (마케팅 집중 시기):\n",
            "- 2025-04: 총 활동 621건\n",
            "- 2024-12: 총 활동 610건\n",
            "- 2025-03: 총 활동 571건\n"
          ]
        }
      ],
      "source": [
        "# 월별 총 활동량 (공구 수 + 참가자 수)\n",
        "monthly_total_activity = monthly_creation + monthly_participants\n",
        "monthly_growth_rate = monthly_total_activity.pct_change() * 100\n",
        "\n",
        "print(f\"\\n거래 증가 시기 분석:\")\n",
        "print(f\"월별 활동 증가율:\")\n",
        "for month, growth in monthly_growth_rate.dropna().items():\n",
        "  trend = \"급성장\" if growth > 20 else \"성장\" if growth > 0 else \"감소\"\n",
        "  print(f\"- {month}: {growth:+.1f}% {trend}\")\n",
        "\n",
        "# 피크 시즌 식별\n",
        "peak_months = monthly_total_activity.nlargest(3)\n",
        "print(f\"\\n거래량 피크 시즌 (마케팅 집중 시기):\")\n",
        "for month, activity in peak_months.items():\n",
        "  print(f\"- {month}: 총 활동 {activity:,}건\")"
      ]
    },
    {
      "cell_type": "markdown",
      "metadata": {
        "id": "sfRPq8nk4LkU"
      },
      "source": [
        "### 리더 유입 캠페인 필요성 분석\n"
      ]
    },
    {
      "cell_type": "code",
      "execution_count": 14,
      "metadata": {
        "colab": {
          "base_uri": "https://localhost:8080/"
        },
        "id": "D5ljGCxj4NjI",
        "outputId": "d6905803-7c48-47d3-c417-ca2c532e1478"
      },
      "outputs": [
        {
          "name": "stdout",
          "output_type": "stream",
          "text": [
            "\n",
            "리더 유입 현황 분석:\n",
            "- 전체 리더 수: 1,507명\n",
            "- 전체 참가자 수: 3,000명\n",
            "- 리더 비율: 50.0%\n",
            "\n",
            "리더 유입 캠페인 필요성:\n",
            "- 최근 3개월 평균 리더 유입: 200.0명/월\n",
            "- 전체 기간 평균 리더 유입: 200.0명/월\n",
            "- 캠페인 필요: 아니오 (정상 수준)\n"
          ]
        }
      ],
      "source": [
        "# 리더 비율 계산\n",
        "total_leaders = len(participants[participants['role'] == '리더'])\n",
        "total_participants_count = len(participants)\n",
        "leader_ratio = (total_leaders / total_participants_count) * 100\n",
        "\n",
        "print(f\"\\n리더 유입 현황 분석:\")\n",
        "print(f\"- 전체 리더 수: {total_leaders:,}명\")\n",
        "print(f\"- 전체 참가자 수: {total_participants_count:,}명\")\n",
        "print(f\"- 리더 비율: {leader_ratio:.1f}%\")\n",
        "\n",
        "# 최근 리더 유입 추이\n",
        "recent_leader_avg = monthly_new_leaders.tail(3).mean()\n",
        "overall_leader_avg = monthly_new_leaders.mean()\n",
        "\n",
        "campaign_needed = recent_leader_avg < overall_leader_avg * 0.8\n",
        "\n",
        "print(f\"\\n리더 유입 캠페인 필요성:\")\n",
        "print(f\"- 최근 3개월 평균 리더 유입: {recent_leader_avg:.1f}명/월\")\n",
        "print(f\"- 전체 기간 평균 리더 유입: {overall_leader_avg:.1f}명/월\")\n",
        "print(f\"- 캠페인 필요: {'예 (리더 유입 저조)' if campaign_needed else '아니오 (정상 수준)'}\")"
      ]
    },
    {
      "cell_type": "markdown",
      "metadata": {
        "id": "00MUqZZ24TGG"
      },
      "source": [
        "## 종합 KPI 대시보드\n"
      ]
    },
    {
      "cell_type": "code",
      "execution_count": 15,
      "metadata": {
        "colab": {
          "base_uri": "https://localhost:8080/"
        },
        "id": "cdxG0zVG4XFH",
        "outputId": "4d5fa3b2-a1ee-4663-ce70-1a35b4b17aff"
      },
      "outputs": [
        {
          "name": "stdout",
          "output_type": "stream",
          "text": [
            "핵심 성과 지표 (KPI):\n",
            "==================================================\n",
            "총 공구 수: 500개\n",
            "완료율: 20.0%\n",
            "실패율: 20.0%\n",
            "월평균 신규 공구: 70.0개\n",
            "월평균 신규 리더: 200.0명\n",
            "리더 비율: 50.0%\n",
            "사용자당 평균 참여: 10.00회\n",
            "최고 성과 지역: 수원\n",
            "개선 필요 지역: 광주\n",
            "피크 시즌: 2025-04\n"
          ]
        }
      ],
      "source": [
        "# 핵심 KPI 정리\n",
        "kpi_summary = {\n",
        "    '총 공구 수': f\"{total_groups:,}개\",\n",
        "    '완료율': f\"{completion_rate:.1f}%\",\n",
        "    '실패율': f\"{failure_rate:.1f}%\",\n",
        "    '월평균 신규 공구': f\"{monthly_creation.mean():.1f}개\",\n",
        "    '월평균 신규 리더': f\"{monthly_new_leaders.mean():.1f}명\",\n",
        "    '리더 비율': f\"{leader_ratio:.1f}%\",\n",
        "    '사용자당 평균 참여': f\"{avg_participation_per_user:.2f}회\",\n",
        "    '최고 성과 지역': location_success_rate.index[0],\n",
        "    '개선 필요 지역': location_failure_rate.index[0],\n",
        "    '피크 시즌': str(peak_months.index[0])\n",
        "}\n",
        "\n",
        "print(\"핵심 성과 지표 (KPI):\")\n",
        "print(\"=\" * 50)\n",
        "for key, value in kpi_summary.items():\n",
        "  print(f\"{key}: {value}\")"
      ]
    },
    {
      "cell_type": "markdown",
      "metadata": {
        "id": "u83G3I6t4a1b"
      },
      "source": [
        "### KPI 대시보드 시각화\n"
      ]
    },
    {
      "cell_type": "code",
      "execution_count": 16,
      "metadata": {
        "colab": {
          "base_uri": "https://localhost:8080/",
          "height": 417
        },
        "id": "U09Ioy0I4ebe",
        "outputId": "976af23a-ff46-4a8e-dc2c-ff771abb6b5d"
      },
      "outputs": [
        {
          "data": {
            "application/vnd.plotly.v1+json": {
              "config": {
                "plotlyServerURL": "https://plot.ly"
              },
              "data": [
                {
                  "cells": {
                    "align": "center",
                    "fill": {
                      "color": "lightgrey"
                    },
                    "font": {
                      "size": 12
                    },
                    "values": [
                      [
                        "총 공구 수",
                        "완료율",
                        "실패율",
                        "월평균 신규 공구",
                        "월평균 신규 리더",
                        "리더 비율"
                      ],
                      [
                        "500개",
                        "20.0%",
                        "20.0%",
                        "70.0개",
                        "200.0명",
                        "50.0%"
                      ],
                      [
                        "정상",
                        "모니터링 필요",
                        "주의",
                        "양호",
                        "양호",
                        "개선 여지"
                      ]
                    ]
                  },
                  "header": {
                    "align": "center",
                    "fill": {
                      "color": "lightblue"
                    },
                    "font": {
                      "color": "white",
                      "size": 14
                    },
                    "values": [
                      "핵심 지표",
                      "현재 값",
                      "상태 평가"
                    ]
                  },
                  "type": "table"
                }
              ],
              "layout": {
                "height": 400,
                "template": {
                  "data": {
                    "bar": [
                      {
                        "error_x": {
                          "color": "#2a3f5f"
                        },
                        "error_y": {
                          "color": "#2a3f5f"
                        },
                        "marker": {
                          "line": {
                            "color": "#E5ECF6",
                            "width": 0.5
                          },
                          "pattern": {
                            "fillmode": "overlay",
                            "size": 10,
                            "solidity": 0.2
                          }
                        },
                        "type": "bar"
                      }
                    ],
                    "barpolar": [
                      {
                        "marker": {
                          "line": {
                            "color": "#E5ECF6",
                            "width": 0.5
                          },
                          "pattern": {
                            "fillmode": "overlay",
                            "size": 10,
                            "solidity": 0.2
                          }
                        },
                        "type": "barpolar"
                      }
                    ],
                    "carpet": [
                      {
                        "aaxis": {
                          "endlinecolor": "#2a3f5f",
                          "gridcolor": "white",
                          "linecolor": "white",
                          "minorgridcolor": "white",
                          "startlinecolor": "#2a3f5f"
                        },
                        "baxis": {
                          "endlinecolor": "#2a3f5f",
                          "gridcolor": "white",
                          "linecolor": "white",
                          "minorgridcolor": "white",
                          "startlinecolor": "#2a3f5f"
                        },
                        "type": "carpet"
                      }
                    ],
                    "choropleth": [
                      {
                        "colorbar": {
                          "outlinewidth": 0,
                          "ticks": ""
                        },
                        "type": "choropleth"
                      }
                    ],
                    "contour": [
                      {
                        "colorbar": {
                          "outlinewidth": 0,
                          "ticks": ""
                        },
                        "colorscale": [
                          [
                            0,
                            "#0d0887"
                          ],
                          [
                            0.1111111111111111,
                            "#46039f"
                          ],
                          [
                            0.2222222222222222,
                            "#7201a8"
                          ],
                          [
                            0.3333333333333333,
                            "#9c179e"
                          ],
                          [
                            0.4444444444444444,
                            "#bd3786"
                          ],
                          [
                            0.5555555555555556,
                            "#d8576b"
                          ],
                          [
                            0.6666666666666666,
                            "#ed7953"
                          ],
                          [
                            0.7777777777777778,
                            "#fb9f3a"
                          ],
                          [
                            0.8888888888888888,
                            "#fdca26"
                          ],
                          [
                            1,
                            "#f0f921"
                          ]
                        ],
                        "type": "contour"
                      }
                    ],
                    "contourcarpet": [
                      {
                        "colorbar": {
                          "outlinewidth": 0,
                          "ticks": ""
                        },
                        "type": "contourcarpet"
                      }
                    ],
                    "heatmap": [
                      {
                        "colorbar": {
                          "outlinewidth": 0,
                          "ticks": ""
                        },
                        "colorscale": [
                          [
                            0,
                            "#0d0887"
                          ],
                          [
                            0.1111111111111111,
                            "#46039f"
                          ],
                          [
                            0.2222222222222222,
                            "#7201a8"
                          ],
                          [
                            0.3333333333333333,
                            "#9c179e"
                          ],
                          [
                            0.4444444444444444,
                            "#bd3786"
                          ],
                          [
                            0.5555555555555556,
                            "#d8576b"
                          ],
                          [
                            0.6666666666666666,
                            "#ed7953"
                          ],
                          [
                            0.7777777777777778,
                            "#fb9f3a"
                          ],
                          [
                            0.8888888888888888,
                            "#fdca26"
                          ],
                          [
                            1,
                            "#f0f921"
                          ]
                        ],
                        "type": "heatmap"
                      }
                    ],
                    "histogram": [
                      {
                        "marker": {
                          "pattern": {
                            "fillmode": "overlay",
                            "size": 10,
                            "solidity": 0.2
                          }
                        },
                        "type": "histogram"
                      }
                    ],
                    "histogram2d": [
                      {
                        "colorbar": {
                          "outlinewidth": 0,
                          "ticks": ""
                        },
                        "colorscale": [
                          [
                            0,
                            "#0d0887"
                          ],
                          [
                            0.1111111111111111,
                            "#46039f"
                          ],
                          [
                            0.2222222222222222,
                            "#7201a8"
                          ],
                          [
                            0.3333333333333333,
                            "#9c179e"
                          ],
                          [
                            0.4444444444444444,
                            "#bd3786"
                          ],
                          [
                            0.5555555555555556,
                            "#d8576b"
                          ],
                          [
                            0.6666666666666666,
                            "#ed7953"
                          ],
                          [
                            0.7777777777777778,
                            "#fb9f3a"
                          ],
                          [
                            0.8888888888888888,
                            "#fdca26"
                          ],
                          [
                            1,
                            "#f0f921"
                          ]
                        ],
                        "type": "histogram2d"
                      }
                    ],
                    "histogram2dcontour": [
                      {
                        "colorbar": {
                          "outlinewidth": 0,
                          "ticks": ""
                        },
                        "colorscale": [
                          [
                            0,
                            "#0d0887"
                          ],
                          [
                            0.1111111111111111,
                            "#46039f"
                          ],
                          [
                            0.2222222222222222,
                            "#7201a8"
                          ],
                          [
                            0.3333333333333333,
                            "#9c179e"
                          ],
                          [
                            0.4444444444444444,
                            "#bd3786"
                          ],
                          [
                            0.5555555555555556,
                            "#d8576b"
                          ],
                          [
                            0.6666666666666666,
                            "#ed7953"
                          ],
                          [
                            0.7777777777777778,
                            "#fb9f3a"
                          ],
                          [
                            0.8888888888888888,
                            "#fdca26"
                          ],
                          [
                            1,
                            "#f0f921"
                          ]
                        ],
                        "type": "histogram2dcontour"
                      }
                    ],
                    "mesh3d": [
                      {
                        "colorbar": {
                          "outlinewidth": 0,
                          "ticks": ""
                        },
                        "type": "mesh3d"
                      }
                    ],
                    "parcoords": [
                      {
                        "line": {
                          "colorbar": {
                            "outlinewidth": 0,
                            "ticks": ""
                          }
                        },
                        "type": "parcoords"
                      }
                    ],
                    "pie": [
                      {
                        "automargin": true,
                        "type": "pie"
                      }
                    ],
                    "scatter": [
                      {
                        "fillpattern": {
                          "fillmode": "overlay",
                          "size": 10,
                          "solidity": 0.2
                        },
                        "type": "scatter"
                      }
                    ],
                    "scatter3d": [
                      {
                        "line": {
                          "colorbar": {
                            "outlinewidth": 0,
                            "ticks": ""
                          }
                        },
                        "marker": {
                          "colorbar": {
                            "outlinewidth": 0,
                            "ticks": ""
                          }
                        },
                        "type": "scatter3d"
                      }
                    ],
                    "scattercarpet": [
                      {
                        "marker": {
                          "colorbar": {
                            "outlinewidth": 0,
                            "ticks": ""
                          }
                        },
                        "type": "scattercarpet"
                      }
                    ],
                    "scattergeo": [
                      {
                        "marker": {
                          "colorbar": {
                            "outlinewidth": 0,
                            "ticks": ""
                          }
                        },
                        "type": "scattergeo"
                      }
                    ],
                    "scattergl": [
                      {
                        "marker": {
                          "colorbar": {
                            "outlinewidth": 0,
                            "ticks": ""
                          }
                        },
                        "type": "scattergl"
                      }
                    ],
                    "scattermap": [
                      {
                        "marker": {
                          "colorbar": {
                            "outlinewidth": 0,
                            "ticks": ""
                          }
                        },
                        "type": "scattermap"
                      }
                    ],
                    "scattermapbox": [
                      {
                        "marker": {
                          "colorbar": {
                            "outlinewidth": 0,
                            "ticks": ""
                          }
                        },
                        "type": "scattermapbox"
                      }
                    ],
                    "scatterpolar": [
                      {
                        "marker": {
                          "colorbar": {
                            "outlinewidth": 0,
                            "ticks": ""
                          }
                        },
                        "type": "scatterpolar"
                      }
                    ],
                    "scatterpolargl": [
                      {
                        "marker": {
                          "colorbar": {
                            "outlinewidth": 0,
                            "ticks": ""
                          }
                        },
                        "type": "scatterpolargl"
                      }
                    ],
                    "scatterternary": [
                      {
                        "marker": {
                          "colorbar": {
                            "outlinewidth": 0,
                            "ticks": ""
                          }
                        },
                        "type": "scatterternary"
                      }
                    ],
                    "surface": [
                      {
                        "colorbar": {
                          "outlinewidth": 0,
                          "ticks": ""
                        },
                        "colorscale": [
                          [
                            0,
                            "#0d0887"
                          ],
                          [
                            0.1111111111111111,
                            "#46039f"
                          ],
                          [
                            0.2222222222222222,
                            "#7201a8"
                          ],
                          [
                            0.3333333333333333,
                            "#9c179e"
                          ],
                          [
                            0.4444444444444444,
                            "#bd3786"
                          ],
                          [
                            0.5555555555555556,
                            "#d8576b"
                          ],
                          [
                            0.6666666666666666,
                            "#ed7953"
                          ],
                          [
                            0.7777777777777778,
                            "#fb9f3a"
                          ],
                          [
                            0.8888888888888888,
                            "#fdca26"
                          ],
                          [
                            1,
                            "#f0f921"
                          ]
                        ],
                        "type": "surface"
                      }
                    ],
                    "table": [
                      {
                        "cells": {
                          "fill": {
                            "color": "#EBF0F8"
                          },
                          "line": {
                            "color": "white"
                          }
                        },
                        "header": {
                          "fill": {
                            "color": "#C8D4E3"
                          },
                          "line": {
                            "color": "white"
                          }
                        },
                        "type": "table"
                      }
                    ]
                  },
                  "layout": {
                    "annotationdefaults": {
                      "arrowcolor": "#2a3f5f",
                      "arrowhead": 0,
                      "arrowwidth": 1
                    },
                    "autotypenumbers": "strict",
                    "coloraxis": {
                      "colorbar": {
                        "outlinewidth": 0,
                        "ticks": ""
                      }
                    },
                    "colorscale": {
                      "diverging": [
                        [
                          0,
                          "#8e0152"
                        ],
                        [
                          0.1,
                          "#c51b7d"
                        ],
                        [
                          0.2,
                          "#de77ae"
                        ],
                        [
                          0.3,
                          "#f1b6da"
                        ],
                        [
                          0.4,
                          "#fde0ef"
                        ],
                        [
                          0.5,
                          "#f7f7f7"
                        ],
                        [
                          0.6,
                          "#e6f5d0"
                        ],
                        [
                          0.7,
                          "#b8e186"
                        ],
                        [
                          0.8,
                          "#7fbc41"
                        ],
                        [
                          0.9,
                          "#4d9221"
                        ],
                        [
                          1,
                          "#276419"
                        ]
                      ],
                      "sequential": [
                        [
                          0,
                          "#0d0887"
                        ],
                        [
                          0.1111111111111111,
                          "#46039f"
                        ],
                        [
                          0.2222222222222222,
                          "#7201a8"
                        ],
                        [
                          0.3333333333333333,
                          "#9c179e"
                        ],
                        [
                          0.4444444444444444,
                          "#bd3786"
                        ],
                        [
                          0.5555555555555556,
                          "#d8576b"
                        ],
                        [
                          0.6666666666666666,
                          "#ed7953"
                        ],
                        [
                          0.7777777777777778,
                          "#fb9f3a"
                        ],
                        [
                          0.8888888888888888,
                          "#fdca26"
                        ],
                        [
                          1,
                          "#f0f921"
                        ]
                      ],
                      "sequentialminus": [
                        [
                          0,
                          "#0d0887"
                        ],
                        [
                          0.1111111111111111,
                          "#46039f"
                        ],
                        [
                          0.2222222222222222,
                          "#7201a8"
                        ],
                        [
                          0.3333333333333333,
                          "#9c179e"
                        ],
                        [
                          0.4444444444444444,
                          "#bd3786"
                        ],
                        [
                          0.5555555555555556,
                          "#d8576b"
                        ],
                        [
                          0.6666666666666666,
                          "#ed7953"
                        ],
                        [
                          0.7777777777777778,
                          "#fb9f3a"
                        ],
                        [
                          0.8888888888888888,
                          "#fdca26"
                        ],
                        [
                          1,
                          "#f0f921"
                        ]
                      ]
                    },
                    "colorway": [
                      "#636efa",
                      "#EF553B",
                      "#00cc96",
                      "#ab63fa",
                      "#FFA15A",
                      "#19d3f3",
                      "#FF6692",
                      "#B6E880",
                      "#FF97FF",
                      "#FECB52"
                    ],
                    "font": {
                      "color": "#2a3f5f"
                    },
                    "geo": {
                      "bgcolor": "white",
                      "lakecolor": "white",
                      "landcolor": "#E5ECF6",
                      "showlakes": true,
                      "showland": true,
                      "subunitcolor": "white"
                    },
                    "hoverlabel": {
                      "align": "left"
                    },
                    "hovermode": "closest",
                    "mapbox": {
                      "style": "light"
                    },
                    "paper_bgcolor": "white",
                    "plot_bgcolor": "#E5ECF6",
                    "polar": {
                      "angularaxis": {
                        "gridcolor": "white",
                        "linecolor": "white",
                        "ticks": ""
                      },
                      "bgcolor": "#E5ECF6",
                      "radialaxis": {
                        "gridcolor": "white",
                        "linecolor": "white",
                        "ticks": ""
                      }
                    },
                    "scene": {
                      "xaxis": {
                        "backgroundcolor": "#E5ECF6",
                        "gridcolor": "white",
                        "gridwidth": 2,
                        "linecolor": "white",
                        "showbackground": true,
                        "ticks": "",
                        "zerolinecolor": "white"
                      },
                      "yaxis": {
                        "backgroundcolor": "#E5ECF6",
                        "gridcolor": "white",
                        "gridwidth": 2,
                        "linecolor": "white",
                        "showbackground": true,
                        "ticks": "",
                        "zerolinecolor": "white"
                      },
                      "zaxis": {
                        "backgroundcolor": "#E5ECF6",
                        "gridcolor": "white",
                        "gridwidth": 2,
                        "linecolor": "white",
                        "showbackground": true,
                        "ticks": "",
                        "zerolinecolor": "white"
                      }
                    },
                    "shapedefaults": {
                      "line": {
                        "color": "#2a3f5f"
                      }
                    },
                    "ternary": {
                      "aaxis": {
                        "gridcolor": "white",
                        "linecolor": "white",
                        "ticks": ""
                      },
                      "baxis": {
                        "gridcolor": "white",
                        "linecolor": "white",
                        "ticks": ""
                      },
                      "bgcolor": "#E5ECF6",
                      "caxis": {
                        "gridcolor": "white",
                        "linecolor": "white",
                        "ticks": ""
                      }
                    },
                    "title": {
                      "x": 0.05
                    },
                    "xaxis": {
                      "automargin": true,
                      "gridcolor": "white",
                      "linecolor": "white",
                      "ticks": "",
                      "title": {
                        "standoff": 15
                      },
                      "zerolinecolor": "white",
                      "zerolinewidth": 2
                    },
                    "yaxis": {
                      "automargin": true,
                      "gridcolor": "white",
                      "linecolor": "white",
                      "ticks": "",
                      "title": {
                        "standoff": 15
                      },
                      "zerolinecolor": "white",
                      "zerolinewidth": 2
                    }
                  }
                },
                "title": {
                  "font": {
                    "size": 20
                  },
                  "text": "공구 플랫폼 핵심 지표 요약"
                },
                "width": 900
              }
            }
          },
          "metadata": {},
          "output_type": "display_data"
        }
      ],
      "source": [
        "# KPI 요약 테이블\n",
        "fig_kpi = go.Figure(data=[go.Table(\n",
        "    header=dict(\n",
        "        values=['핵심 지표', '현재 값', '상태 평가'],\n",
        "        fill_color='lightblue',\n",
        "        font=dict(color='white', size=14),\n",
        "        align='center'\n",
        "    ),\n",
        "    cells=dict(\n",
        "        values=[\n",
        "            ['총 공구 수', '완료율', '실패율', '월평균 신규 공구', '월평균 신규 리더', '리더 비율'],\n",
        "            [f\"{total_groups:,}개\", f\"{completion_rate:.1f}%\", f\"{failure_rate:.1f}%\",\n",
        "             f\"{monthly_creation.mean():.1f}개\", f\"{monthly_new_leaders.mean():.1f}명\", f\"{leader_ratio:.1f}%\"],\n",
        "            ['정상', '모니터링 필요', '주의', '양호',\n",
        "             '캠페인 필요' if campaign_needed else '양호', '개선 여지']\n",
        "        ],\n",
        "        fill_color='lightgrey',\n",
        "        font=dict(size=12),\n",
        "        align='center'\n",
        "    )\n",
        ")])\n",
        "\n",
        "fig_kpi.update_layout(\n",
        "    title=\"공구 플랫폼 핵심 지표 요약\",\n",
        "    title_font_size=20,\n",
        "    width=900,\n",
        "    height=400\n",
        ")\n",
        "fig_kpi.show()"
      ]
    },
    {
      "cell_type": "markdown",
      "metadata": {
        "id": "l_T19Oc04leY"
      },
      "source": [
        "## 운영 인사이트\n"
      ]
    },
    {
      "cell_type": "markdown",
      "metadata": {
        "id": "FK8Jv4I_4qfe"
      },
      "source": [
        "### 데이터 기반 인사이트\n"
      ]
    },
    {
      "cell_type": "code",
      "execution_count": 17,
      "metadata": {
        "colab": {
          "base_uri": "https://localhost:8080/"
        },
        "id": "WJi1tmka4pgC",
        "outputId": "10a8ad50-4a84-43cc-bcb3-f380383b9cb0"
      },
      "outputs": [
        {
          "name": "stdout",
          "output_type": "stream",
          "text": [
            "주요 운영 인사이트:\n",
            "==================================================\n",
            "1. 수원 지역이 성공률 30.0%로 최고 성과\n",
            "2. 광주 지역이 실패율 30.0%로 개선 시급\n",
            "3. 2025-04이 최대 활동 시즌 - 마케팅 집중 시기\n",
            "4. 리더 유입 안정적 - 현재 전략 유지\n",
            "5. 재참여율 100.0% - 사용자 충성도 양호\n"
          ]
        }
      ],
      "source": [
        "print(\"주요 운영 인사이트:\")\n",
        "print(\"=\" * 50)\n",
        "\n",
        "insights = []\n",
        "\n",
        "# 1. 지역별 성과 인사이트\n",
        "best_region = location_success_rate.index[0]\n",
        "worst_region = location_failure_rate.index[0]\n",
        "insights.append(f\"{best_region} 지역이 성공률 {location_success_rate.iloc[0]:.1f}%로 최고 성과\")\n",
        "insights.append(f\"{worst_region} 지역이 실패율 {location_failure_rate.iloc[0]:.1f}%로 개선 시급\")\n",
        "\n",
        "# 2. 시즌별 인사이트\n",
        "peak_season = str(peak_months.index[0])\n",
        "insights.append(f\"{peak_season}이 최대 활동 시즌 - 마케팅 집중 시기\")\n",
        "\n",
        "# 3. 리더 유입 인사이트\n",
        "if campaign_needed:\n",
        "  insights.append(\"리더 유입 저조로 리더 유치 캠페인 필요\")\n",
        "else:\n",
        "  insights.append(\"리더 유입 안정적 - 현재 전략 유지\")\n",
        "\n",
        "# 4. 참여 패턴 인사이트\n",
        "repeat_users_ratio = ((user_participation > 1).sum() / len(user_participation)) * 100\n",
        "insights.append(f\"재참여율 {repeat_users_ratio:.1f}% - 사용자 충성도 {'양호' if repeat_users_ratio > 30 else '개선 필요'}\")\n",
        "\n",
        "for i, insight in enumerate(insights, 1):\n",
        "  print(f\"{i}. {insight}\")"
      ]
    },
    {
      "cell_type": "markdown",
      "metadata": {
        "id": "ugabkRzQ46cr"
      },
      "source": [
        "### 성과 개선 전략\n"
      ]
    },
    {
      "cell_type": "code",
      "execution_count": 18,
      "metadata": {
        "colab": {
          "base_uri": "https://localhost:8080/"
        },
        "id": "CU4qTSgC498q",
        "outputId": "e97fe39f-48a0-45c9-877b-a9fe21823677"
      },
      "outputs": [
        {
          "name": "stdout",
          "output_type": "stream",
          "text": [
            "\n",
            "성과 개선 전략:\n",
            "==================================================\n",
            "\n",
            "완료율 향상 전략:\n",
            "- 현재 완료율 20.0% → 목표 35% 이상\n",
            "- 광주 지역 집중 지원으로 전체 완료율 5%p 향상 가능\n",
            "- 공구 진행 가이드 제공으로 성공률 증대\n",
            "\n",
            "리더 확보 전략:\n",
            "- 현재 리더 비율 50.0% → 목표 30% 이상\n",
            "- 리더 인센티브 프로그램으로 월 200명 → 300명 목표\n",
            "- 성공 리더 추천 시스템 도입\n",
            "\n",
            "재참여율 향상 전략:\n",
            "- 현재 재참여율 100.0% → 목표 40% 이상\n",
            "- 맞춤형 공구 추천으로 사용자별 평균 참여 10.0회 → 3회 목표\n",
            "- 로열티 프로그램 도입\n",
            "\n",
            "지역 균형 발전 전략:\n",
            "- 수원 지역 성공 모델을 광주 지역에 적용\n",
            "- 지역별 특화 상품군 개발\n",
            "- 지역 리더 양성 프로그램 운영\n",
            "\n"
          ]
        }
      ],
      "source": [
        "print(f\"\\n성과 개선 전략:\")\n",
        "print(\"=\" * 50)\n",
        "\n",
        "print(f\"\"\"\n",
        "완료율 향상 전략:\n",
        "- 현재 완료율 {completion_rate:.1f}% → 목표 35% 이상\n",
        "- {worst_region} 지역 집중 지원으로 전체 완료율 5%p 향상 가능\n",
        "- 공구 진행 가이드 제공으로 성공률 증대\n",
        "\n",
        "리더 확보 전략:\n",
        "- 현재 리더 비율 {leader_ratio:.1f}% → 목표 30% 이상\n",
        "- 리더 인센티브 프로그램으로 월 {monthly_new_leaders.mean():.0f}명 → {monthly_new_leaders.mean() * 1.5:.0f}명 목표\n",
        "- 성공 리더 추천 시스템 도입\n",
        "\n",
        "재참여율 향상 전략:\n",
        "- 현재 재참여율 {repeat_users_ratio:.1f}% → 목표 40% 이상\n",
        "- 맞춤형 공구 추천으로 사용자별 평균 참여 {avg_participation_per_user:.1f}회 → 3회 목표\n",
        "- 로열티 프로그램 도입\n",
        "\n",
        "지역 균형 발전 전략:\n",
        "- {best_region} 지역 성공 모델을 {worst_region} 지역에 적용\n",
        "- 지역별 특화 상품군 개발\n",
        "- 지역 리더 양성 프로그램 운영\n",
        "\"\"\")"
      ]
    },
    {
      "cell_type": "markdown",
      "metadata": {
        "id": "95WTg7yh5Bqq"
      },
      "source": [
        "### 모니터링 지표\n"
      ]
    },
    {
      "cell_type": "code",
      "execution_count": 19,
      "metadata": {
        "colab": {
          "base_uri": "https://localhost:8080/"
        },
        "id": "MPldCw_y5EZE",
        "outputId": "d669a4f0-57a4-4479-baba-4bb0896718bd"
      },
      "outputs": [
        {
          "name": "stdout",
          "output_type": "stream",
          "text": [
            "\n",
            "지속 모니터링 지표:\n",
            "==================================================\n",
            "1. 일일 신규 공구 생성 수\n",
            "2. 주간 완료율 추이\n",
            "3. 월간 리더 유입 수\n",
            "4. 지역별 성공률 변화\n",
            "5. 사용자 재참여율\n",
            "6. 피크 시즌 대비 현재 활동 수준\n",
            "\n",
            "경보 기준:\n",
            "- 완료율 20.0% 이하 시 알림\n",
            "- 리더 유입 100명/월 이하 시 캠페인 발동\n",
            "- 특정 지역 실패율 40% 이상 시 긴급 대응\n",
            "- 일일 신규 공구 1.0개 이하 시 마케팅 강화\n",
            "\n"
          ]
        }
      ],
      "source": [
        "print(f\"\\n지속 모니터링 지표:\")\n",
        "print(\"=\" * 50)\n",
        "\n",
        "monitoring_metrics = [\n",
        "    \"일일 신규 공구 생성 수\",\n",
        "    \"주간 완료율 추이\",\n",
        "    \"월간 리더 유입 수\",\n",
        "    \"지역별 성공률 변화\",\n",
        "    \"사용자 재참여율\",\n",
        "    \"피크 시즌 대비 현재 활동 수준\"\n",
        "]\n",
        "\n",
        "for i, metric in enumerate(monitoring_metrics, 1):\n",
        "  print(f\"{i}. {metric}\")\n",
        "\n",
        "print(f\"\"\"\n",
        "경보 기준:\n",
        "- 완료율 {completion_rate * .8:.1f}% 이하 시 알림\n",
        "- 리더 유입 {monthly_new_leaders.mean() * .7:.0f}명/월 이하 시 캠페인 발동\n",
        "- 특정 지역 실패율 40% 이상 시 긴급 대응\n",
        "- 일일 신규 공구 {len(recent_groups) / 21 * .5:.1f}개 이하 시 마케팅 강화\n",
        "\"\"\")"
      ]
    },
    {
      "cell_type": "markdown",
      "metadata": {
        "id": "ZdlpFg-X5Je2"
      },
      "source": [
        "## 예측 및 목표 설정\n"
      ]
    },
    {
      "cell_type": "code",
      "execution_count": 20,
      "metadata": {
        "colab": {
          "base_uri": "https://localhost:8080/"
        },
        "id": "Wd5DjYOe5Mq_",
        "outputId": "871d67a7-5142-4c46-a8a7-2473b7921bff"
      },
      "outputs": [
        {
          "name": "stdout",
          "output_type": "stream",
          "text": [
            "3개월 후 예측 목표:\n",
            "- 현재 월평균 공구: 70.0개\n",
            "- 목표 월평균 공구: 80.0개 (+20%)\n",
            "- 목표 완료율: 30.0% (+5%p)\n",
            "- 목표 리더 비율: 50.0% (+5%p)\n"
          ]
        }
      ],
      "source": [
        "# 성장 전망\n",
        "current_monthly_avg = monthly_creation.mean()\n",
        "target_growth_rate = 20  # 20% 성장 목표\n",
        "\n",
        "print(f\"3개월 후 예측 목표:\")\n",
        "print(f\"- 현재 월평균 공구: {current_monthly_avg:.1f}개\")\n",
        "print(f\"- 목표 월평균 공구: {current_monthly_avg * (1 + target_growth_rate / 100):.1f}개 (+{target_growth_rate}%)\")\n",
        "print(f\"- 목표 완료율: {completion_rate + 5:.1f}% (+5%p)\")\n",
        "print(f\"- 목표 리더 비율: {leader_ratio + 5:.1f}% (+5%p)\")"
      ]
    }
  ],
  "metadata": {
    "colab": {
      "provenance": [],
      "toc_visible": true
    },
    "kernelspec": {
      "display_name": ".venv",
      "language": "python",
      "name": "python3"
    },
    "language_info": {
      "codemirror_mode": {
        "name": "ipython",
        "version": 3
      },
      "file_extension": ".py",
      "mimetype": "text/x-python",
      "name": "python",
      "nbconvert_exporter": "python",
      "pygments_lexer": "ipython3",
      "version": "3.12.10"
    }
  },
  "nbformat": 4,
  "nbformat_minor": 0
}
